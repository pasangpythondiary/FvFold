{
 "cells": [
  {
   "attachments": {},
   "cell_type": "markdown",
   "metadata": {},
   "source": [
    "# Abrestnet code file starts here"
   ]
  },
  {
   "cell_type": "code",
   "execution_count": 1,
   "metadata": {},
   "outputs": [
    {
     "name": "stderr",
     "output_type": "stream",
     "text": [
      "/home/pasang/anaconda3/envs/antibody/lib/python3.7/site-packages/tqdm/auto.py:22: TqdmWarning: IProgress not found. Please update jupyter and ipywidgets. See https://ipywidgets.readthedocs.io/en/stable/user_install.html\n",
      "  from .autonotebook import tqdm as notebook_tqdm\n"
     ]
    },
    {
     "data": {
      "text/plain": [
       "'/home/pasang/all_experiment/FvFold/fvfold/models/AbResNet'"
      ]
     },
     "execution_count": 1,
     "metadata": {},
     "output_type": "execute_result"
    }
   ],
   "source": [
    "import argparse\n",
    "import os\n",
    "from tqdm import tqdm\n",
    "from datetime import datetime\n",
    "import torch\n",
    "import torch.nn as nn\n",
    "import torch.nn.functional as F\n",
    "import torch.utils.data as data\n",
    "from torch.utils.tensorboard import SummaryWriter\n",
    "\n",
    "import sys\n",
    "sys.path.append('/home/pasang/all_experiment/FvFold')\n",
    "\n",
    "import fvfold\n",
    "from fvfold.models.AbResNet import AbResNet, load_model\n",
    "\n",
    "from fvfold.util.masking import MASK_VALUE\n",
    "from fvfold.util.training import check_for_h5_file\n",
    "# from fvfold.util.util import RawTextArgumentDefaultsHelpFormatter\n",
    "from fvfold.datasets.H5PairwiseGeometryDataset import H5PairwiseGeometryDataset\n",
    "from fvfold.preprocess.generate_h5_pairwise_geom_file import antibody_to_h5\n",
    "\n",
    "_output_names = ['ca_dist', 'cb_dist', 'no_dist', 'omega', 'theta', 'phi']\n",
    "os.getcwd()"
   ]
  },
  {
   "cell_type": "code",
   "execution_count": 2,
   "metadata": {},
   "outputs": [
    {
     "name": "stdout",
     "output_type": "stream",
     "text": [
      "GPUs available:\n",
      "0: NVIDIA GeForce RTX 2080 Ti, Memory: 11019.56 MB\n",
      "1: NVIDIA GeForce RTX 2080 Ti, Memory: 11019.56 MB\n",
      "2: NVIDIA GeForce RTX 2080 Ti, Memory: 11019.56 MB\n",
      "3: NVIDIA GeForce RTX 2080 Ti, Memory: 11019.56 MB\n",
      "4: NVIDIA GeForce RTX 2080 Ti, Memory: 11019.56 MB\n",
      "5: NVIDIA GeForce RTX 2080 Ti, Memory: 11019.56 MB\n",
      "6: NVIDIA RTX A6000, Memory: 48685.31 MB\n",
      "7: NVIDIA A100 80GB PCIe, Memory: 81069.75 MB\n"
     ]
    }
   ],
   "source": [
    "import torch\n",
    "\n",
    "if torch.cuda.is_available():\n",
    "    print(\"GPUs available:\")\n",
    "    for i in range(torch.cuda.device_count()):\n",
    "        device_properties = torch.cuda.get_device_properties(i)\n",
    "        print(f\"{i}: {device_properties.name}, Memory: {device_properties.total_memory / (1024**2):.2f} MB\")\n",
    "else:\n",
    "    print(\"No GPUs available.\")"
   ]
  },
  {
   "cell_type": "code",
   "execution_count": 3,
   "metadata": {},
   "outputs": [
    {
     "data": {
      "text/plain": [
       "'/home/pasang/all_experiment/FvFold'"
      ]
     },
     "execution_count": 3,
     "metadata": {},
     "output_type": "execute_result"
    }
   ],
   "source": [
    "project_path = os.path.abspath(os.path.join(fvfold.__file__, \"../..\"))\n",
    "num_blocks1D=3\n",
    "num_blocks2D=25\n",
    "dilation_cycle=5\n",
    "num_bins=37\n",
    "dropout=0.2\n",
    "num_blocks2D=25\n",
    "dilation_cycle=5\n",
    "num_bins=37\n",
    "dropout=0.2\n",
    "epochs=200\n",
    "save_every=5\n",
    "batch_size=8\n",
    "lr=0.01\n",
    "use_gpu=True\n",
    "train_split=0.9\n",
    "h5_file= os.path.join(project_path, 'data/final_antibody.h5')\n",
    "antibody_database=os.path.join(project_path,'data/antibody_database')\n",
    "now = str(datetime.now().strftime('%y-%m-%d %H:%M:%S'))\n",
    "default_model_path = os.path.join(project_path,'trained_models/model_{}/'.format(now))\n",
    "output_dir=default_model_path\n",
    "pretrain_model_file=None\n",
    "random_seed=0\n",
    "project_path\n"
   ]
  },
  {
   "cell_type": "code",
   "execution_count": 4,
   "metadata": {},
   "outputs": [],
   "source": [
    "device_type = 'cuda:7' if torch.cuda.is_available(\n",
    "    ) and use_gpu else 'cpu'\n",
    "device = torch.device(device_type)\n",
    "out_dir = output_dir\n",
    "current_epoch = 0"
   ]
  },
  {
   "cell_type": "code",
   "execution_count": 5,
   "metadata": {},
   "outputs": [],
   "source": [
    "class FocalLoss(nn.modules.loss._WeightedLoss):\n",
    "    def __init__(self,\n",
    "                    weight=None,\n",
    "                    gamma=2,\n",
    "                    reduction='mean',\n",
    "                    ignore_index=MASK_VALUE):\n",
    "        super(FocalLoss, self).__init__(weight, reduction=reduction)\n",
    "        self.gamma = gamma\n",
    "        self.weight = weight\n",
    "        self.ignore_index = ignore_index\n",
    "\n",
    "    def forward(self, input, target):\n",
    "        ce_loss = F.cross_entropy(input,\n",
    "                                    target,\n",
    "                                    reduction=self.reduction,\n",
    "                                    weight=self.weight,\n",
    "                                    ignore_index=self.ignore_index)\n",
    "        pt = torch.exp(-ce_loss)\n",
    "        focal_loss = ((1 - pt)**self.gamma * ce_loss).mean()\n",
    "        return focal_loss"
   ]
  },
  {
   "cell_type": "code",
   "execution_count": 6,
   "metadata": {},
   "outputs": [
    {
     "name": "stdout",
     "output_type": "stream",
     "text": [
      "abresnet properties {'num_out_bins': 37, 'num_blocks1D': 3, 'num_blocks2D': 25, 'dropout_proportion': 0.2, 'dilation_cycle': 5}\n"
     ]
    }
   ],
   "source": [
    "# properties of resnet and 2d resnet\n",
    "properties = dict(num_out_bins=num_bins,\n",
    "                    num_blocks1D=num_blocks1D,\n",
    "                    num_blocks2D=num_blocks2D,\n",
    "                    dropout_proportion=dropout,\n",
    "                    dilation_cycle=dilation_cycle)\n",
    "print(\"abresnet properties\",properties)"
   ]
  },
  {
   "cell_type": "code",
   "execution_count": 7,
   "metadata": {},
   "outputs": [
    {
     "name": "stdout",
     "output_type": "stream",
     "text": [
      "properties {'num_out_bins': 37, 'num_blocks1D': 3, 'num_blocks2D': 25, 'dropout_proportion': 0.2, 'dilation_cycle': 5, 'lr': 0.01}\n",
      "model AbResNet(\n",
      "  (linear): Linear(in_features=1024, out_features=128, bias=True)\n",
      "  (relu): ReLU()\n",
      "  (resnet1D): ResNet1D(\n",
      "    (conv1): Conv1d(21, 32, kernel_size=(17,), stride=(1,), padding=(8,), bias=False)\n",
      "    (bn1): BatchNorm1d(32, eps=1e-05, momentum=0.1, affine=True, track_running_stats=True)\n",
      "    (layer0): Sequential(\n",
      "      (0): ResBlock1D(\n",
      "        (conv1): Conv1d(32, 32, kernel_size=(17,), stride=(1,), padding=(8,), bias=False)\n",
      "        (bn1): BatchNorm1d(32, eps=1e-05, momentum=0.1, affine=True, track_running_stats=True)\n",
      "        (conv2): Conv1d(32, 32, kernel_size=(17,), stride=(1,), padding=(8,), bias=False)\n",
      "        (bn2): BatchNorm1d(32, eps=1e-05, momentum=0.1, affine=True, track_running_stats=True)\n",
      "      )\n",
      "      (1): ResBlock1D(\n",
      "        (conv1): Conv1d(32, 32, kernel_size=(17,), stride=(1,), padding=(8,), bias=False)\n",
      "        (bn1): BatchNorm1d(32, eps=1e-05, momentum=0.1, affine=True, track_running_stats=True)\n",
      "        (conv2): Conv1d(32, 32, kernel_size=(17,), stride=(1,), padding=(8,), bias=False)\n",
      "        (bn2): BatchNorm1d(32, eps=1e-05, momentum=0.1, affine=True, track_running_stats=True)\n",
      "      )\n",
      "      (2): ResBlock1D(\n",
      "        (conv1): Conv1d(32, 32, kernel_size=(17,), stride=(1,), padding=(8,), bias=False)\n",
      "        (bn1): BatchNorm1d(32, eps=1e-05, momentum=0.1, affine=True, track_running_stats=True)\n",
      "        (conv2): Conv1d(32, 32, kernel_size=(17,), stride=(1,), padding=(8,), bias=False)\n",
      "        (bn2): BatchNorm1d(32, eps=1e-05, momentum=0.1, affine=True, track_running_stats=True)\n",
      "      )\n",
      "    )\n",
      "  )\n",
      "  (seq2pairwise): OuterConcatenation2D()\n",
      "  (resnet2D): ResNet2D(\n",
      "    (conv1): Conv2d(2112, 64, kernel_size=(5, 5), stride=(1, 1), padding=(2, 2), bias=False)\n",
      "    (bn1): BatchNorm2d(64, eps=1e-05, momentum=0.1, affine=True, track_running_stats=True)\n",
      "    (layer0): Sequential(\n",
      "      (0): ResBlock2D(\n",
      "        (conv1): Conv2d(64, 64, kernel_size=(5, 5), stride=(1, 1), padding=(2, 2), bias=False)\n",
      "        (bn1): BatchNorm2d(64, eps=1e-05, momentum=0.1, affine=True, track_running_stats=True)\n",
      "        (conv2): Conv2d(64, 64, kernel_size=(5, 5), stride=(1, 1), padding=(2, 2), bias=False)\n",
      "        (bn2): BatchNorm2d(64, eps=1e-05, momentum=0.1, affine=True, track_running_stats=True)\n",
      "      )\n",
      "      (1): ResBlock2D(\n",
      "        (conv1): Conv2d(64, 64, kernel_size=(5, 5), stride=(1, 1), padding=(4, 4), dilation=(2, 2), bias=False)\n",
      "        (bn1): BatchNorm2d(64, eps=1e-05, momentum=0.1, affine=True, track_running_stats=True)\n",
      "        (conv2): Conv2d(64, 64, kernel_size=(5, 5), stride=(1, 1), padding=(4, 4), dilation=(2, 2), bias=False)\n",
      "        (bn2): BatchNorm2d(64, eps=1e-05, momentum=0.1, affine=True, track_running_stats=True)\n",
      "      )\n",
      "      (2): ResBlock2D(\n",
      "        (conv1): Conv2d(64, 64, kernel_size=(5, 5), stride=(1, 1), padding=(8, 8), dilation=(4, 4), bias=False)\n",
      "        (bn1): BatchNorm2d(64, eps=1e-05, momentum=0.1, affine=True, track_running_stats=True)\n",
      "        (conv2): Conv2d(64, 64, kernel_size=(5, 5), stride=(1, 1), padding=(8, 8), dilation=(4, 4), bias=False)\n",
      "        (bn2): BatchNorm2d(64, eps=1e-05, momentum=0.1, affine=True, track_running_stats=True)\n",
      "      )\n",
      "      (3): ResBlock2D(\n",
      "        (conv1): Conv2d(64, 64, kernel_size=(5, 5), stride=(1, 1), padding=(16, 16), dilation=(8, 8), bias=False)\n",
      "        (bn1): BatchNorm2d(64, eps=1e-05, momentum=0.1, affine=True, track_running_stats=True)\n",
      "        (conv2): Conv2d(64, 64, kernel_size=(5, 5), stride=(1, 1), padding=(16, 16), dilation=(8, 8), bias=False)\n",
      "        (bn2): BatchNorm2d(64, eps=1e-05, momentum=0.1, affine=True, track_running_stats=True)\n",
      "      )\n",
      "      (4): ResBlock2D(\n",
      "        (conv1): Conv2d(64, 64, kernel_size=(5, 5), stride=(1, 1), padding=(32, 32), dilation=(16, 16), bias=False)\n",
      "        (bn1): BatchNorm2d(64, eps=1e-05, momentum=0.1, affine=True, track_running_stats=True)\n",
      "        (conv2): Conv2d(64, 64, kernel_size=(5, 5), stride=(1, 1), padding=(32, 32), dilation=(16, 16), bias=False)\n",
      "        (bn2): BatchNorm2d(64, eps=1e-05, momentum=0.1, affine=True, track_running_stats=True)\n",
      "      )\n",
      "      (5): ResBlock2D(\n",
      "        (conv1): Conv2d(64, 64, kernel_size=(5, 5), stride=(1, 1), padding=(2, 2), bias=False)\n",
      "        (bn1): BatchNorm2d(64, eps=1e-05, momentum=0.1, affine=True, track_running_stats=True)\n",
      "        (conv2): Conv2d(64, 64, kernel_size=(5, 5), stride=(1, 1), padding=(2, 2), bias=False)\n",
      "        (bn2): BatchNorm2d(64, eps=1e-05, momentum=0.1, affine=True, track_running_stats=True)\n",
      "      )\n",
      "      (6): ResBlock2D(\n",
      "        (conv1): Conv2d(64, 64, kernel_size=(5, 5), stride=(1, 1), padding=(4, 4), dilation=(2, 2), bias=False)\n",
      "        (bn1): BatchNorm2d(64, eps=1e-05, momentum=0.1, affine=True, track_running_stats=True)\n",
      "        (conv2): Conv2d(64, 64, kernel_size=(5, 5), stride=(1, 1), padding=(4, 4), dilation=(2, 2), bias=False)\n",
      "        (bn2): BatchNorm2d(64, eps=1e-05, momentum=0.1, affine=True, track_running_stats=True)\n",
      "      )\n",
      "      (7): ResBlock2D(\n",
      "        (conv1): Conv2d(64, 64, kernel_size=(5, 5), stride=(1, 1), padding=(8, 8), dilation=(4, 4), bias=False)\n",
      "        (bn1): BatchNorm2d(64, eps=1e-05, momentum=0.1, affine=True, track_running_stats=True)\n",
      "        (conv2): Conv2d(64, 64, kernel_size=(5, 5), stride=(1, 1), padding=(8, 8), dilation=(4, 4), bias=False)\n",
      "        (bn2): BatchNorm2d(64, eps=1e-05, momentum=0.1, affine=True, track_running_stats=True)\n",
      "      )\n",
      "      (8): ResBlock2D(\n",
      "        (conv1): Conv2d(64, 64, kernel_size=(5, 5), stride=(1, 1), padding=(16, 16), dilation=(8, 8), bias=False)\n",
      "        (bn1): BatchNorm2d(64, eps=1e-05, momentum=0.1, affine=True, track_running_stats=True)\n",
      "        (conv2): Conv2d(64, 64, kernel_size=(5, 5), stride=(1, 1), padding=(16, 16), dilation=(8, 8), bias=False)\n",
      "        (bn2): BatchNorm2d(64, eps=1e-05, momentum=0.1, affine=True, track_running_stats=True)\n",
      "      )\n",
      "      (9): ResBlock2D(\n",
      "        (conv1): Conv2d(64, 64, kernel_size=(5, 5), stride=(1, 1), padding=(32, 32), dilation=(16, 16), bias=False)\n",
      "        (bn1): BatchNorm2d(64, eps=1e-05, momentum=0.1, affine=True, track_running_stats=True)\n",
      "        (conv2): Conv2d(64, 64, kernel_size=(5, 5), stride=(1, 1), padding=(32, 32), dilation=(16, 16), bias=False)\n",
      "        (bn2): BatchNorm2d(64, eps=1e-05, momentum=0.1, affine=True, track_running_stats=True)\n",
      "      )\n",
      "      (10): ResBlock2D(\n",
      "        (conv1): Conv2d(64, 64, kernel_size=(5, 5), stride=(1, 1), padding=(2, 2), bias=False)\n",
      "        (bn1): BatchNorm2d(64, eps=1e-05, momentum=0.1, affine=True, track_running_stats=True)\n",
      "        (conv2): Conv2d(64, 64, kernel_size=(5, 5), stride=(1, 1), padding=(2, 2), bias=False)\n",
      "        (bn2): BatchNorm2d(64, eps=1e-05, momentum=0.1, affine=True, track_running_stats=True)\n",
      "      )\n",
      "      (11): ResBlock2D(\n",
      "        (conv1): Conv2d(64, 64, kernel_size=(5, 5), stride=(1, 1), padding=(4, 4), dilation=(2, 2), bias=False)\n",
      "        (bn1): BatchNorm2d(64, eps=1e-05, momentum=0.1, affine=True, track_running_stats=True)\n",
      "        (conv2): Conv2d(64, 64, kernel_size=(5, 5), stride=(1, 1), padding=(4, 4), dilation=(2, 2), bias=False)\n",
      "        (bn2): BatchNorm2d(64, eps=1e-05, momentum=0.1, affine=True, track_running_stats=True)\n",
      "      )\n",
      "      (12): ResBlock2D(\n",
      "        (conv1): Conv2d(64, 64, kernel_size=(5, 5), stride=(1, 1), padding=(8, 8), dilation=(4, 4), bias=False)\n",
      "        (bn1): BatchNorm2d(64, eps=1e-05, momentum=0.1, affine=True, track_running_stats=True)\n",
      "        (conv2): Conv2d(64, 64, kernel_size=(5, 5), stride=(1, 1), padding=(8, 8), dilation=(4, 4), bias=False)\n",
      "        (bn2): BatchNorm2d(64, eps=1e-05, momentum=0.1, affine=True, track_running_stats=True)\n",
      "      )\n",
      "      (13): ResBlock2D(\n",
      "        (conv1): Conv2d(64, 64, kernel_size=(5, 5), stride=(1, 1), padding=(16, 16), dilation=(8, 8), bias=False)\n",
      "        (bn1): BatchNorm2d(64, eps=1e-05, momentum=0.1, affine=True, track_running_stats=True)\n",
      "        (conv2): Conv2d(64, 64, kernel_size=(5, 5), stride=(1, 1), padding=(16, 16), dilation=(8, 8), bias=False)\n",
      "        (bn2): BatchNorm2d(64, eps=1e-05, momentum=0.1, affine=True, track_running_stats=True)\n",
      "      )\n",
      "      (14): ResBlock2D(\n",
      "        (conv1): Conv2d(64, 64, kernel_size=(5, 5), stride=(1, 1), padding=(32, 32), dilation=(16, 16), bias=False)\n",
      "        (bn1): BatchNorm2d(64, eps=1e-05, momentum=0.1, affine=True, track_running_stats=True)\n",
      "        (conv2): Conv2d(64, 64, kernel_size=(5, 5), stride=(1, 1), padding=(32, 32), dilation=(16, 16), bias=False)\n",
      "        (bn2): BatchNorm2d(64, eps=1e-05, momentum=0.1, affine=True, track_running_stats=True)\n",
      "      )\n",
      "      (15): ResBlock2D(\n",
      "        (conv1): Conv2d(64, 64, kernel_size=(5, 5), stride=(1, 1), padding=(2, 2), bias=False)\n",
      "        (bn1): BatchNorm2d(64, eps=1e-05, momentum=0.1, affine=True, track_running_stats=True)\n",
      "        (conv2): Conv2d(64, 64, kernel_size=(5, 5), stride=(1, 1), padding=(2, 2), bias=False)\n",
      "        (bn2): BatchNorm2d(64, eps=1e-05, momentum=0.1, affine=True, track_running_stats=True)\n",
      "      )\n",
      "      (16): ResBlock2D(\n",
      "        (conv1): Conv2d(64, 64, kernel_size=(5, 5), stride=(1, 1), padding=(4, 4), dilation=(2, 2), bias=False)\n",
      "        (bn1): BatchNorm2d(64, eps=1e-05, momentum=0.1, affine=True, track_running_stats=True)\n",
      "        (conv2): Conv2d(64, 64, kernel_size=(5, 5), stride=(1, 1), padding=(4, 4), dilation=(2, 2), bias=False)\n",
      "        (bn2): BatchNorm2d(64, eps=1e-05, momentum=0.1, affine=True, track_running_stats=True)\n",
      "      )\n",
      "      (17): ResBlock2D(\n",
      "        (conv1): Conv2d(64, 64, kernel_size=(5, 5), stride=(1, 1), padding=(8, 8), dilation=(4, 4), bias=False)\n",
      "        (bn1): BatchNorm2d(64, eps=1e-05, momentum=0.1, affine=True, track_running_stats=True)\n",
      "        (conv2): Conv2d(64, 64, kernel_size=(5, 5), stride=(1, 1), padding=(8, 8), dilation=(4, 4), bias=False)\n",
      "        (bn2): BatchNorm2d(64, eps=1e-05, momentum=0.1, affine=True, track_running_stats=True)\n",
      "      )\n",
      "      (18): ResBlock2D(\n",
      "        (conv1): Conv2d(64, 64, kernel_size=(5, 5), stride=(1, 1), padding=(16, 16), dilation=(8, 8), bias=False)\n",
      "        (bn1): BatchNorm2d(64, eps=1e-05, momentum=0.1, affine=True, track_running_stats=True)\n",
      "        (conv2): Conv2d(64, 64, kernel_size=(5, 5), stride=(1, 1), padding=(16, 16), dilation=(8, 8), bias=False)\n",
      "        (bn2): BatchNorm2d(64, eps=1e-05, momentum=0.1, affine=True, track_running_stats=True)\n",
      "      )\n",
      "      (19): ResBlock2D(\n",
      "        (conv1): Conv2d(64, 64, kernel_size=(5, 5), stride=(1, 1), padding=(32, 32), dilation=(16, 16), bias=False)\n",
      "        (bn1): BatchNorm2d(64, eps=1e-05, momentum=0.1, affine=True, track_running_stats=True)\n",
      "        (conv2): Conv2d(64, 64, kernel_size=(5, 5), stride=(1, 1), padding=(32, 32), dilation=(16, 16), bias=False)\n",
      "        (bn2): BatchNorm2d(64, eps=1e-05, momentum=0.1, affine=True, track_running_stats=True)\n",
      "      )\n",
      "      (20): ResBlock2D(\n",
      "        (conv1): Conv2d(64, 64, kernel_size=(5, 5), stride=(1, 1), padding=(2, 2), bias=False)\n",
      "        (bn1): BatchNorm2d(64, eps=1e-05, momentum=0.1, affine=True, track_running_stats=True)\n",
      "        (conv2): Conv2d(64, 64, kernel_size=(5, 5), stride=(1, 1), padding=(2, 2), bias=False)\n",
      "        (bn2): BatchNorm2d(64, eps=1e-05, momentum=0.1, affine=True, track_running_stats=True)\n",
      "      )\n",
      "      (21): ResBlock2D(\n",
      "        (conv1): Conv2d(64, 64, kernel_size=(5, 5), stride=(1, 1), padding=(4, 4), dilation=(2, 2), bias=False)\n",
      "        (bn1): BatchNorm2d(64, eps=1e-05, momentum=0.1, affine=True, track_running_stats=True)\n",
      "        (conv2): Conv2d(64, 64, kernel_size=(5, 5), stride=(1, 1), padding=(4, 4), dilation=(2, 2), bias=False)\n",
      "        (bn2): BatchNorm2d(64, eps=1e-05, momentum=0.1, affine=True, track_running_stats=True)\n",
      "      )\n",
      "      (22): ResBlock2D(\n",
      "        (conv1): Conv2d(64, 64, kernel_size=(5, 5), stride=(1, 1), padding=(8, 8), dilation=(4, 4), bias=False)\n",
      "        (bn1): BatchNorm2d(64, eps=1e-05, momentum=0.1, affine=True, track_running_stats=True)\n",
      "        (conv2): Conv2d(64, 64, kernel_size=(5, 5), stride=(1, 1), padding=(8, 8), dilation=(4, 4), bias=False)\n",
      "        (bn2): BatchNorm2d(64, eps=1e-05, momentum=0.1, affine=True, track_running_stats=True)\n",
      "      )\n",
      "      (23): ResBlock2D(\n",
      "        (conv1): Conv2d(64, 64, kernel_size=(5, 5), stride=(1, 1), padding=(16, 16), dilation=(8, 8), bias=False)\n",
      "        (bn1): BatchNorm2d(64, eps=1e-05, momentum=0.1, affine=True, track_running_stats=True)\n",
      "        (conv2): Conv2d(64, 64, kernel_size=(5, 5), stride=(1, 1), padding=(16, 16), dilation=(8, 8), bias=False)\n",
      "        (bn2): BatchNorm2d(64, eps=1e-05, momentum=0.1, affine=True, track_running_stats=True)\n",
      "      )\n",
      "      (24): ResBlock2D(\n",
      "        (conv1): Conv2d(64, 64, kernel_size=(5, 5), stride=(1, 1), padding=(32, 32), dilation=(16, 16), bias=False)\n",
      "        (bn1): BatchNorm2d(64, eps=1e-05, momentum=0.1, affine=True, track_running_stats=True)\n",
      "        (conv2): Conv2d(64, 64, kernel_size=(5, 5), stride=(1, 1), padding=(32, 32), dilation=(16, 16), bias=False)\n",
      "        (bn2): BatchNorm2d(64, eps=1e-05, momentum=0.1, affine=True, track_running_stats=True)\n",
      "      )\n",
      "    )\n",
      "  )\n",
      "  (out_dropout): Dropout2d(p=0.2, inplace=False)\n",
      "  (out_ca_dist): Sequential(\n",
      "    (0): Conv2d(64, 37, kernel_size=(5, 5), stride=(1, 1), padding=(2, 2))\n",
      "    (1): RCCAModule(\n",
      "      (conv1): Sequential(\n",
      "        (0): Conv2d(37, 9, kernel_size=(5, 5), stride=(1, 1), padding=(2, 2), bias=False)\n",
      "        (1): BatchNorm2d(9, eps=1e-05, momentum=0.1, affine=True, track_running_stats=True)\n",
      "        (2): ReLU()\n",
      "      )\n",
      "      (cca): CrissCrossAttention(\n",
      "        (query_conv): Conv2d(9, 1, kernel_size=(1, 1), stride=(1, 1))\n",
      "        (key_conv): Conv2d(9, 1, kernel_size=(1, 1), stride=(1, 1))\n",
      "        (value_conv): Conv2d(9, 9, kernel_size=(1, 1), stride=(1, 1))\n",
      "        (softmax): Softmax(dim=3)\n",
      "      )\n",
      "      (conv2): Sequential(\n",
      "        (0): Conv2d(9, 37, kernel_size=(5, 5), stride=(1, 1), padding=(2, 2), bias=False)\n",
      "        (1): BatchNorm2d(37, eps=1e-05, momentum=0.1, affine=True, track_running_stats=True)\n",
      "        (2): ReLU()\n",
      "      )\n",
      "    )\n",
      "  )\n",
      "  (out_cb_dist): Sequential(\n",
      "    (0): Conv2d(64, 37, kernel_size=(5, 5), stride=(1, 1), padding=(2, 2))\n",
      "    (1): RCCAModule(\n",
      "      (conv1): Sequential(\n",
      "        (0): Conv2d(37, 9, kernel_size=(5, 5), stride=(1, 1), padding=(2, 2), bias=False)\n",
      "        (1): BatchNorm2d(9, eps=1e-05, momentum=0.1, affine=True, track_running_stats=True)\n",
      "        (2): ReLU()\n",
      "      )\n",
      "      (cca): CrissCrossAttention(\n",
      "        (query_conv): Conv2d(9, 1, kernel_size=(1, 1), stride=(1, 1))\n",
      "        (key_conv): Conv2d(9, 1, kernel_size=(1, 1), stride=(1, 1))\n",
      "        (value_conv): Conv2d(9, 9, kernel_size=(1, 1), stride=(1, 1))\n",
      "        (softmax): Softmax(dim=3)\n",
      "      )\n",
      "      (conv2): Sequential(\n",
      "        (0): Conv2d(9, 37, kernel_size=(5, 5), stride=(1, 1), padding=(2, 2), bias=False)\n",
      "        (1): BatchNorm2d(37, eps=1e-05, momentum=0.1, affine=True, track_running_stats=True)\n",
      "        (2): ReLU()\n",
      "      )\n",
      "    )\n",
      "  )\n",
      "  (out_no_dist): Sequential(\n",
      "    (0): Conv2d(64, 37, kernel_size=(5, 5), stride=(1, 1), padding=(2, 2))\n",
      "    (1): RCCAModule(\n",
      "      (conv1): Sequential(\n",
      "        (0): Conv2d(37, 9, kernel_size=(5, 5), stride=(1, 1), padding=(2, 2), bias=False)\n",
      "        (1): BatchNorm2d(9, eps=1e-05, momentum=0.1, affine=True, track_running_stats=True)\n",
      "        (2): ReLU()\n",
      "      )\n",
      "      (cca): CrissCrossAttention(\n",
      "        (query_conv): Conv2d(9, 1, kernel_size=(1, 1), stride=(1, 1))\n",
      "        (key_conv): Conv2d(9, 1, kernel_size=(1, 1), stride=(1, 1))\n",
      "        (value_conv): Conv2d(9, 9, kernel_size=(1, 1), stride=(1, 1))\n",
      "        (softmax): Softmax(dim=3)\n",
      "      )\n",
      "      (conv2): Sequential(\n",
      "        (0): Conv2d(9, 37, kernel_size=(5, 5), stride=(1, 1), padding=(2, 2), bias=False)\n",
      "        (1): BatchNorm2d(37, eps=1e-05, momentum=0.1, affine=True, track_running_stats=True)\n",
      "        (2): ReLU()\n",
      "      )\n",
      "    )\n",
      "  )\n",
      "  (out_omega): Sequential(\n",
      "    (0): Conv2d(64, 37, kernel_size=(5, 5), stride=(1, 1), padding=(2, 2))\n",
      "    (1): RCCAModule(\n",
      "      (conv1): Sequential(\n",
      "        (0): Conv2d(37, 9, kernel_size=(5, 5), stride=(1, 1), padding=(2, 2), bias=False)\n",
      "        (1): BatchNorm2d(9, eps=1e-05, momentum=0.1, affine=True, track_running_stats=True)\n",
      "        (2): ReLU()\n",
      "      )\n",
      "      (cca): CrissCrossAttention(\n",
      "        (query_conv): Conv2d(9, 1, kernel_size=(1, 1), stride=(1, 1))\n",
      "        (key_conv): Conv2d(9, 1, kernel_size=(1, 1), stride=(1, 1))\n",
      "        (value_conv): Conv2d(9, 9, kernel_size=(1, 1), stride=(1, 1))\n",
      "        (softmax): Softmax(dim=3)\n",
      "      )\n",
      "      (conv2): Sequential(\n",
      "        (0): Conv2d(9, 37, kernel_size=(5, 5), stride=(1, 1), padding=(2, 2), bias=False)\n",
      "        (1): BatchNorm2d(37, eps=1e-05, momentum=0.1, affine=True, track_running_stats=True)\n",
      "        (2): ReLU()\n",
      "      )\n",
      "    )\n",
      "  )\n",
      "  (out_theta): Sequential(\n",
      "    (0): Conv2d(64, 37, kernel_size=(5, 5), stride=(1, 1), padding=(2, 2))\n",
      "    (1): RCCAModule(\n",
      "      (conv1): Sequential(\n",
      "        (0): Conv2d(37, 9, kernel_size=(5, 5), stride=(1, 1), padding=(2, 2), bias=False)\n",
      "        (1): BatchNorm2d(9, eps=1e-05, momentum=0.1, affine=True, track_running_stats=True)\n",
      "        (2): ReLU()\n",
      "      )\n",
      "      (cca): CrissCrossAttention(\n",
      "        (query_conv): Conv2d(9, 1, kernel_size=(1, 1), stride=(1, 1))\n",
      "        (key_conv): Conv2d(9, 1, kernel_size=(1, 1), stride=(1, 1))\n",
      "        (value_conv): Conv2d(9, 9, kernel_size=(1, 1), stride=(1, 1))\n",
      "        (softmax): Softmax(dim=3)\n",
      "      )\n",
      "      (conv2): Sequential(\n",
      "        (0): Conv2d(9, 37, kernel_size=(5, 5), stride=(1, 1), padding=(2, 2), bias=False)\n",
      "        (1): BatchNorm2d(37, eps=1e-05, momentum=0.1, affine=True, track_running_stats=True)\n",
      "        (2): ReLU()\n",
      "      )\n",
      "    )\n",
      "  )\n",
      "  (out_phi): Sequential(\n",
      "    (0): Conv2d(64, 37, kernel_size=(5, 5), stride=(1, 1), padding=(2, 2))\n",
      "    (1): RCCAModule(\n",
      "      (conv1): Sequential(\n",
      "        (0): Conv2d(37, 9, kernel_size=(5, 5), stride=(1, 1), padding=(2, 2), bias=False)\n",
      "        (1): BatchNorm2d(9, eps=1e-05, momentum=0.1, affine=True, track_running_stats=True)\n",
      "        (2): ReLU()\n",
      "      )\n",
      "      (cca): CrissCrossAttention(\n",
      "        (query_conv): Conv2d(9, 1, kernel_size=(1, 1), stride=(1, 1))\n",
      "        (key_conv): Conv2d(9, 1, kernel_size=(1, 1), stride=(1, 1))\n",
      "        (value_conv): Conv2d(9, 9, kernel_size=(1, 1), stride=(1, 1))\n",
      "        (softmax): Softmax(dim=3)\n",
      "      )\n",
      "      (conv2): Sequential(\n",
      "        (0): Conv2d(9, 37, kernel_size=(5, 5), stride=(1, 1), padding=(2, 2), bias=False)\n",
      "        (1): BatchNorm2d(37, eps=1e-05, momentum=0.1, affine=True, track_running_stats=True)\n",
      "        (2): ReLU()\n",
      "      )\n",
      "    )\n",
      "  )\n",
      ")\n"
     ]
    }
   ],
   "source": [
    "model = AbResNet(21, **properties)\n",
    "\n",
    "optimizer = torch.optim.Adam(model.parameters(), lr=lr)\n",
    "properties.update({'lr': lr})\n",
    "print(\"properties\",properties)\n",
    "print(\"model\",model)"
   ]
  },
  {
   "cell_type": "code",
   "execution_count": 8,
   "metadata": {},
   "outputs": [
    {
     "name": "stdout",
     "output_type": "stream",
     "text": [
      "Making /home/pasang/all_experiment/FvFold/trained_models/model_23-12-26 16:00:10/ ...\n",
      "{'num_out_bins': 37, 'num_blocks1D': 3, 'num_blocks2D': 25, 'dropout_proportion': 0.2, 'dilation_cycle': 5, 'lr': 0.01}\n"
     ]
    }
   ],
   "source": [
    "print('Making {} ...'.format(out_dir))\n",
    "os.mkdir(out_dir)\n",
    "\n",
    "print(properties)"
   ]
  },
  {
   "attachments": {},
   "cell_type": "markdown",
   "metadata": {},
   "source": [
    "# Load only train loader not validation for testing purpose"
   ]
  },
  {
   "cell_type": "code",
   "execution_count": 9,
   "metadata": {},
   "outputs": [
    {
     "data": {
      "text/plain": [
       "22"
      ]
     },
     "execution_count": 9,
     "metadata": {},
     "output_type": "execute_result"
    }
   ],
   "source": [
    "properties.update({'lr': lr})\n",
    "\n",
    "check_for_h5_file(h5_file, antibody_to_h5, antibody_database)\n",
    "dataset = H5PairwiseGeometryDataset(h5_file,\n",
    "                                    num_bins=num_bins,\n",
    "                                    mask_distant_orientations=True)\n",
    "train_split_length = int(len(dataset) * train_split)\n",
    "torch.manual_seed(random_seed)\n",
    "train_dataset, validation_dataset = data.random_split(\n",
    "    dataset, [train_split_length,\n",
    "                len(dataset) - train_split_length])\n",
    "train_loader = data.DataLoader(\n",
    "    train_dataset,\n",
    "    batch_size=batch_size,\n",
    "    collate_fn=H5PairwiseGeometryDataset.merge_samples_to_minibatch)\n",
    "validation_loader = data.DataLoader(\n",
    "    validation_dataset,\n",
    "    batch_size=batch_size,\n",
    "    collate_fn=H5PairwiseGeometryDataset.merge_samples_to_minibatch)\n",
    "len(dataset)"
   ]
  },
  {
   "cell_type": "code",
   "execution_count": 10,
   "metadata": {},
   "outputs": [
    {
     "name": "stdout",
     "output_type": "stream",
     "text": [
      "Model:\n",
      " AbResNet(\n",
      "  (linear): Linear(in_features=1024, out_features=128, bias=True)\n",
      "  (relu): ReLU()\n",
      "  (resnet1D): ResNet1D(\n",
      "    (conv1): Conv1d(21, 32, kernel_size=(17,), stride=(1,), padding=(8,), bias=False)\n",
      "    (bn1): BatchNorm1d(32, eps=1e-05, momentum=0.1, affine=True, track_running_stats=True)\n",
      "    (layer0): Sequential(\n",
      "      (0): ResBlock1D(\n",
      "        (conv1): Conv1d(32, 32, kernel_size=(17,), stride=(1,), padding=(8,), bias=False)\n",
      "        (bn1): BatchNorm1d(32, eps=1e-05, momentum=0.1, affine=True, track_running_stats=True)\n",
      "        (conv2): Conv1d(32, 32, kernel_size=(17,), stride=(1,), padding=(8,), bias=False)\n",
      "        (bn2): BatchNorm1d(32, eps=1e-05, momentum=0.1, affine=True, track_running_stats=True)\n",
      "      )\n",
      "      (1): ResBlock1D(\n",
      "        (conv1): Conv1d(32, 32, kernel_size=(17,), stride=(1,), padding=(8,), bias=False)\n",
      "        (bn1): BatchNorm1d(32, eps=1e-05, momentum=0.1, affine=True, track_running_stats=True)\n",
      "        (conv2): Conv1d(32, 32, kernel_size=(17,), stride=(1,), padding=(8,), bias=False)\n",
      "        (bn2): BatchNorm1d(32, eps=1e-05, momentum=0.1, affine=True, track_running_stats=True)\n",
      "      )\n",
      "      (2): ResBlock1D(\n",
      "        (conv1): Conv1d(32, 32, kernel_size=(17,), stride=(1,), padding=(8,), bias=False)\n",
      "        (bn1): BatchNorm1d(32, eps=1e-05, momentum=0.1, affine=True, track_running_stats=True)\n",
      "        (conv2): Conv1d(32, 32, kernel_size=(17,), stride=(1,), padding=(8,), bias=False)\n",
      "        (bn2): BatchNorm1d(32, eps=1e-05, momentum=0.1, affine=True, track_running_stats=True)\n",
      "      )\n",
      "    )\n",
      "  )\n",
      "  (seq2pairwise): OuterConcatenation2D()\n",
      "  (resnet2D): ResNet2D(\n",
      "    (conv1): Conv2d(2112, 64, kernel_size=(5, 5), stride=(1, 1), padding=(2, 2), bias=False)\n",
      "    (bn1): BatchNorm2d(64, eps=1e-05, momentum=0.1, affine=True, track_running_stats=True)\n",
      "    (layer0): Sequential(\n",
      "      (0): ResBlock2D(\n",
      "        (conv1): Conv2d(64, 64, kernel_size=(5, 5), stride=(1, 1), padding=(2, 2), bias=False)\n",
      "        (bn1): BatchNorm2d(64, eps=1e-05, momentum=0.1, affine=True, track_running_stats=True)\n",
      "        (conv2): Conv2d(64, 64, kernel_size=(5, 5), stride=(1, 1), padding=(2, 2), bias=False)\n",
      "        (bn2): BatchNorm2d(64, eps=1e-05, momentum=0.1, affine=True, track_running_stats=True)\n",
      "      )\n",
      "      (1): ResBlock2D(\n",
      "        (conv1): Conv2d(64, 64, kernel_size=(5, 5), stride=(1, 1), padding=(4, 4), dilation=(2, 2), bias=False)\n",
      "        (bn1): BatchNorm2d(64, eps=1e-05, momentum=0.1, affine=True, track_running_stats=True)\n",
      "        (conv2): Conv2d(64, 64, kernel_size=(5, 5), stride=(1, 1), padding=(4, 4), dilation=(2, 2), bias=False)\n",
      "        (bn2): BatchNorm2d(64, eps=1e-05, momentum=0.1, affine=True, track_running_stats=True)\n",
      "      )\n",
      "      (2): ResBlock2D(\n",
      "        (conv1): Conv2d(64, 64, kernel_size=(5, 5), stride=(1, 1), padding=(8, 8), dilation=(4, 4), bias=False)\n",
      "        (bn1): BatchNorm2d(64, eps=1e-05, momentum=0.1, affine=True, track_running_stats=True)\n",
      "        (conv2): Conv2d(64, 64, kernel_size=(5, 5), stride=(1, 1), padding=(8, 8), dilation=(4, 4), bias=False)\n",
      "        (bn2): BatchNorm2d(64, eps=1e-05, momentum=0.1, affine=True, track_running_stats=True)\n",
      "      )\n",
      "      (3): ResBlock2D(\n",
      "        (conv1): Conv2d(64, 64, kernel_size=(5, 5), stride=(1, 1), padding=(16, 16), dilation=(8, 8), bias=False)\n",
      "        (bn1): BatchNorm2d(64, eps=1e-05, momentum=0.1, affine=True, track_running_stats=True)\n",
      "        (conv2): Conv2d(64, 64, kernel_size=(5, 5), stride=(1, 1), padding=(16, 16), dilation=(8, 8), bias=False)\n",
      "        (bn2): BatchNorm2d(64, eps=1e-05, momentum=0.1, affine=True, track_running_stats=True)\n",
      "      )\n",
      "      (4): ResBlock2D(\n",
      "        (conv1): Conv2d(64, 64, kernel_size=(5, 5), stride=(1, 1), padding=(32, 32), dilation=(16, 16), bias=False)\n",
      "        (bn1): BatchNorm2d(64, eps=1e-05, momentum=0.1, affine=True, track_running_stats=True)\n",
      "        (conv2): Conv2d(64, 64, kernel_size=(5, 5), stride=(1, 1), padding=(32, 32), dilation=(16, 16), bias=False)\n",
      "        (bn2): BatchNorm2d(64, eps=1e-05, momentum=0.1, affine=True, track_running_stats=True)\n",
      "      )\n",
      "      (5): ResBlock2D(\n",
      "        (conv1): Conv2d(64, 64, kernel_size=(5, 5), stride=(1, 1), padding=(2, 2), bias=False)\n",
      "        (bn1): BatchNorm2d(64, eps=1e-05, momentum=0.1, affine=True, track_running_stats=True)\n",
      "        (conv2): Conv2d(64, 64, kernel_size=(5, 5), stride=(1, 1), padding=(2, 2), bias=False)\n",
      "        (bn2): BatchNorm2d(64, eps=1e-05, momentum=0.1, affine=True, track_running_stats=True)\n",
      "      )\n",
      "      (6): ResBlock2D(\n",
      "        (conv1): Conv2d(64, 64, kernel_size=(5, 5), stride=(1, 1), padding=(4, 4), dilation=(2, 2), bias=False)\n",
      "        (bn1): BatchNorm2d(64, eps=1e-05, momentum=0.1, affine=True, track_running_stats=True)\n",
      "        (conv2): Conv2d(64, 64, kernel_size=(5, 5), stride=(1, 1), padding=(4, 4), dilation=(2, 2), bias=False)\n",
      "        (bn2): BatchNorm2d(64, eps=1e-05, momentum=0.1, affine=True, track_running_stats=True)\n",
      "      )\n",
      "      (7): ResBlock2D(\n",
      "        (conv1): Conv2d(64, 64, kernel_size=(5, 5), stride=(1, 1), padding=(8, 8), dilation=(4, 4), bias=False)\n",
      "        (bn1): BatchNorm2d(64, eps=1e-05, momentum=0.1, affine=True, track_running_stats=True)\n",
      "        (conv2): Conv2d(64, 64, kernel_size=(5, 5), stride=(1, 1), padding=(8, 8), dilation=(4, 4), bias=False)\n",
      "        (bn2): BatchNorm2d(64, eps=1e-05, momentum=0.1, affine=True, track_running_stats=True)\n",
      "      )\n",
      "      (8): ResBlock2D(\n",
      "        (conv1): Conv2d(64, 64, kernel_size=(5, 5), stride=(1, 1), padding=(16, 16), dilation=(8, 8), bias=False)\n",
      "        (bn1): BatchNorm2d(64, eps=1e-05, momentum=0.1, affine=True, track_running_stats=True)\n",
      "        (conv2): Conv2d(64, 64, kernel_size=(5, 5), stride=(1, 1), padding=(16, 16), dilation=(8, 8), bias=False)\n",
      "        (bn2): BatchNorm2d(64, eps=1e-05, momentum=0.1, affine=True, track_running_stats=True)\n",
      "      )\n",
      "      (9): ResBlock2D(\n",
      "        (conv1): Conv2d(64, 64, kernel_size=(5, 5), stride=(1, 1), padding=(32, 32), dilation=(16, 16), bias=False)\n",
      "        (bn1): BatchNorm2d(64, eps=1e-05, momentum=0.1, affine=True, track_running_stats=True)\n",
      "        (conv2): Conv2d(64, 64, kernel_size=(5, 5), stride=(1, 1), padding=(32, 32), dilation=(16, 16), bias=False)\n",
      "        (bn2): BatchNorm2d(64, eps=1e-05, momentum=0.1, affine=True, track_running_stats=True)\n",
      "      )\n",
      "      (10): ResBlock2D(\n",
      "        (conv1): Conv2d(64, 64, kernel_size=(5, 5), stride=(1, 1), padding=(2, 2), bias=False)\n",
      "        (bn1): BatchNorm2d(64, eps=1e-05, momentum=0.1, affine=True, track_running_stats=True)\n",
      "        (conv2): Conv2d(64, 64, kernel_size=(5, 5), stride=(1, 1), padding=(2, 2), bias=False)\n",
      "        (bn2): BatchNorm2d(64, eps=1e-05, momentum=0.1, affine=True, track_running_stats=True)\n",
      "      )\n",
      "      (11): ResBlock2D(\n",
      "        (conv1): Conv2d(64, 64, kernel_size=(5, 5), stride=(1, 1), padding=(4, 4), dilation=(2, 2), bias=False)\n",
      "        (bn1): BatchNorm2d(64, eps=1e-05, momentum=0.1, affine=True, track_running_stats=True)\n",
      "        (conv2): Conv2d(64, 64, kernel_size=(5, 5), stride=(1, 1), padding=(4, 4), dilation=(2, 2), bias=False)\n",
      "        (bn2): BatchNorm2d(64, eps=1e-05, momentum=0.1, affine=True, track_running_stats=True)\n",
      "      )\n",
      "      (12): ResBlock2D(\n",
      "        (conv1): Conv2d(64, 64, kernel_size=(5, 5), stride=(1, 1), padding=(8, 8), dilation=(4, 4), bias=False)\n",
      "        (bn1): BatchNorm2d(64, eps=1e-05, momentum=0.1, affine=True, track_running_stats=True)\n",
      "        (conv2): Conv2d(64, 64, kernel_size=(5, 5), stride=(1, 1), padding=(8, 8), dilation=(4, 4), bias=False)\n",
      "        (bn2): BatchNorm2d(64, eps=1e-05, momentum=0.1, affine=True, track_running_stats=True)\n",
      "      )\n",
      "      (13): ResBlock2D(\n",
      "        (conv1): Conv2d(64, 64, kernel_size=(5, 5), stride=(1, 1), padding=(16, 16), dilation=(8, 8), bias=False)\n",
      "        (bn1): BatchNorm2d(64, eps=1e-05, momentum=0.1, affine=True, track_running_stats=True)\n",
      "        (conv2): Conv2d(64, 64, kernel_size=(5, 5), stride=(1, 1), padding=(16, 16), dilation=(8, 8), bias=False)\n",
      "        (bn2): BatchNorm2d(64, eps=1e-05, momentum=0.1, affine=True, track_running_stats=True)\n",
      "      )\n",
      "      (14): ResBlock2D(\n",
      "        (conv1): Conv2d(64, 64, kernel_size=(5, 5), stride=(1, 1), padding=(32, 32), dilation=(16, 16), bias=False)\n",
      "        (bn1): BatchNorm2d(64, eps=1e-05, momentum=0.1, affine=True, track_running_stats=True)\n",
      "        (conv2): Conv2d(64, 64, kernel_size=(5, 5), stride=(1, 1), padding=(32, 32), dilation=(16, 16), bias=False)\n",
      "        (bn2): BatchNorm2d(64, eps=1e-05, momentum=0.1, affine=True, track_running_stats=True)\n",
      "      )\n",
      "      (15): ResBlock2D(\n",
      "        (conv1): Conv2d(64, 64, kernel_size=(5, 5), stride=(1, 1), padding=(2, 2), bias=False)\n",
      "        (bn1): BatchNorm2d(64, eps=1e-05, momentum=0.1, affine=True, track_running_stats=True)\n",
      "        (conv2): Conv2d(64, 64, kernel_size=(5, 5), stride=(1, 1), padding=(2, 2), bias=False)\n",
      "        (bn2): BatchNorm2d(64, eps=1e-05, momentum=0.1, affine=True, track_running_stats=True)\n",
      "      )\n",
      "      (16): ResBlock2D(\n",
      "        (conv1): Conv2d(64, 64, kernel_size=(5, 5), stride=(1, 1), padding=(4, 4), dilation=(2, 2), bias=False)\n",
      "        (bn1): BatchNorm2d(64, eps=1e-05, momentum=0.1, affine=True, track_running_stats=True)\n",
      "        (conv2): Conv2d(64, 64, kernel_size=(5, 5), stride=(1, 1), padding=(4, 4), dilation=(2, 2), bias=False)\n",
      "        (bn2): BatchNorm2d(64, eps=1e-05, momentum=0.1, affine=True, track_running_stats=True)\n",
      "      )\n",
      "      (17): ResBlock2D(\n",
      "        (conv1): Conv2d(64, 64, kernel_size=(5, 5), stride=(1, 1), padding=(8, 8), dilation=(4, 4), bias=False)\n",
      "        (bn1): BatchNorm2d(64, eps=1e-05, momentum=0.1, affine=True, track_running_stats=True)\n",
      "        (conv2): Conv2d(64, 64, kernel_size=(5, 5), stride=(1, 1), padding=(8, 8), dilation=(4, 4), bias=False)\n",
      "        (bn2): BatchNorm2d(64, eps=1e-05, momentum=0.1, affine=True, track_running_stats=True)\n",
      "      )\n",
      "      (18): ResBlock2D(\n",
      "        (conv1): Conv2d(64, 64, kernel_size=(5, 5), stride=(1, 1), padding=(16, 16), dilation=(8, 8), bias=False)\n",
      "        (bn1): BatchNorm2d(64, eps=1e-05, momentum=0.1, affine=True, track_running_stats=True)\n",
      "        (conv2): Conv2d(64, 64, kernel_size=(5, 5), stride=(1, 1), padding=(16, 16), dilation=(8, 8), bias=False)\n",
      "        (bn2): BatchNorm2d(64, eps=1e-05, momentum=0.1, affine=True, track_running_stats=True)\n",
      "      )\n",
      "      (19): ResBlock2D(\n",
      "        (conv1): Conv2d(64, 64, kernel_size=(5, 5), stride=(1, 1), padding=(32, 32), dilation=(16, 16), bias=False)\n",
      "        (bn1): BatchNorm2d(64, eps=1e-05, momentum=0.1, affine=True, track_running_stats=True)\n",
      "        (conv2): Conv2d(64, 64, kernel_size=(5, 5), stride=(1, 1), padding=(32, 32), dilation=(16, 16), bias=False)\n",
      "        (bn2): BatchNorm2d(64, eps=1e-05, momentum=0.1, affine=True, track_running_stats=True)\n",
      "      )\n",
      "      (20): ResBlock2D(\n",
      "        (conv1): Conv2d(64, 64, kernel_size=(5, 5), stride=(1, 1), padding=(2, 2), bias=False)\n",
      "        (bn1): BatchNorm2d(64, eps=1e-05, momentum=0.1, affine=True, track_running_stats=True)\n",
      "        (conv2): Conv2d(64, 64, kernel_size=(5, 5), stride=(1, 1), padding=(2, 2), bias=False)\n",
      "        (bn2): BatchNorm2d(64, eps=1e-05, momentum=0.1, affine=True, track_running_stats=True)\n",
      "      )\n",
      "      (21): ResBlock2D(\n",
      "        (conv1): Conv2d(64, 64, kernel_size=(5, 5), stride=(1, 1), padding=(4, 4), dilation=(2, 2), bias=False)\n",
      "        (bn1): BatchNorm2d(64, eps=1e-05, momentum=0.1, affine=True, track_running_stats=True)\n",
      "        (conv2): Conv2d(64, 64, kernel_size=(5, 5), stride=(1, 1), padding=(4, 4), dilation=(2, 2), bias=False)\n",
      "        (bn2): BatchNorm2d(64, eps=1e-05, momentum=0.1, affine=True, track_running_stats=True)\n",
      "      )\n",
      "      (22): ResBlock2D(\n",
      "        (conv1): Conv2d(64, 64, kernel_size=(5, 5), stride=(1, 1), padding=(8, 8), dilation=(4, 4), bias=False)\n",
      "        (bn1): BatchNorm2d(64, eps=1e-05, momentum=0.1, affine=True, track_running_stats=True)\n",
      "        (conv2): Conv2d(64, 64, kernel_size=(5, 5), stride=(1, 1), padding=(8, 8), dilation=(4, 4), bias=False)\n",
      "        (bn2): BatchNorm2d(64, eps=1e-05, momentum=0.1, affine=True, track_running_stats=True)\n",
      "      )\n",
      "      (23): ResBlock2D(\n",
      "        (conv1): Conv2d(64, 64, kernel_size=(5, 5), stride=(1, 1), padding=(16, 16), dilation=(8, 8), bias=False)\n",
      "        (bn1): BatchNorm2d(64, eps=1e-05, momentum=0.1, affine=True, track_running_stats=True)\n",
      "        (conv2): Conv2d(64, 64, kernel_size=(5, 5), stride=(1, 1), padding=(16, 16), dilation=(8, 8), bias=False)\n",
      "        (bn2): BatchNorm2d(64, eps=1e-05, momentum=0.1, affine=True, track_running_stats=True)\n",
      "      )\n",
      "      (24): ResBlock2D(\n",
      "        (conv1): Conv2d(64, 64, kernel_size=(5, 5), stride=(1, 1), padding=(32, 32), dilation=(16, 16), bias=False)\n",
      "        (bn1): BatchNorm2d(64, eps=1e-05, momentum=0.1, affine=True, track_running_stats=True)\n",
      "        (conv2): Conv2d(64, 64, kernel_size=(5, 5), stride=(1, 1), padding=(32, 32), dilation=(16, 16), bias=False)\n",
      "        (bn2): BatchNorm2d(64, eps=1e-05, momentum=0.1, affine=True, track_running_stats=True)\n",
      "      )\n",
      "    )\n",
      "  )\n",
      "  (out_dropout): Dropout2d(p=0.2, inplace=False)\n",
      "  (out_ca_dist): Sequential(\n",
      "    (0): Conv2d(64, 37, kernel_size=(5, 5), stride=(1, 1), padding=(2, 2))\n",
      "    (1): RCCAModule(\n",
      "      (conv1): Sequential(\n",
      "        (0): Conv2d(37, 9, kernel_size=(5, 5), stride=(1, 1), padding=(2, 2), bias=False)\n",
      "        (1): BatchNorm2d(9, eps=1e-05, momentum=0.1, affine=True, track_running_stats=True)\n",
      "        (2): ReLU()\n",
      "      )\n",
      "      (cca): CrissCrossAttention(\n",
      "        (query_conv): Conv2d(9, 1, kernel_size=(1, 1), stride=(1, 1))\n",
      "        (key_conv): Conv2d(9, 1, kernel_size=(1, 1), stride=(1, 1))\n",
      "        (value_conv): Conv2d(9, 9, kernel_size=(1, 1), stride=(1, 1))\n",
      "        (softmax): Softmax(dim=3)\n",
      "      )\n",
      "      (conv2): Sequential(\n",
      "        (0): Conv2d(9, 37, kernel_size=(5, 5), stride=(1, 1), padding=(2, 2), bias=False)\n",
      "        (1): BatchNorm2d(37, eps=1e-05, momentum=0.1, affine=True, track_running_stats=True)\n",
      "        (2): ReLU()\n",
      "      )\n",
      "    )\n",
      "  )\n",
      "  (out_cb_dist): Sequential(\n",
      "    (0): Conv2d(64, 37, kernel_size=(5, 5), stride=(1, 1), padding=(2, 2))\n",
      "    (1): RCCAModule(\n",
      "      (conv1): Sequential(\n",
      "        (0): Conv2d(37, 9, kernel_size=(5, 5), stride=(1, 1), padding=(2, 2), bias=False)\n",
      "        (1): BatchNorm2d(9, eps=1e-05, momentum=0.1, affine=True, track_running_stats=True)\n",
      "        (2): ReLU()\n",
      "      )\n",
      "      (cca): CrissCrossAttention(\n",
      "        (query_conv): Conv2d(9, 1, kernel_size=(1, 1), stride=(1, 1))\n",
      "        (key_conv): Conv2d(9, 1, kernel_size=(1, 1), stride=(1, 1))\n",
      "        (value_conv): Conv2d(9, 9, kernel_size=(1, 1), stride=(1, 1))\n",
      "        (softmax): Softmax(dim=3)\n",
      "      )\n",
      "      (conv2): Sequential(\n",
      "        (0): Conv2d(9, 37, kernel_size=(5, 5), stride=(1, 1), padding=(2, 2), bias=False)\n",
      "        (1): BatchNorm2d(37, eps=1e-05, momentum=0.1, affine=True, track_running_stats=True)\n",
      "        (2): ReLU()\n",
      "      )\n",
      "    )\n",
      "  )\n",
      "  (out_no_dist): Sequential(\n",
      "    (0): Conv2d(64, 37, kernel_size=(5, 5), stride=(1, 1), padding=(2, 2))\n",
      "    (1): RCCAModule(\n",
      "      (conv1): Sequential(\n",
      "        (0): Conv2d(37, 9, kernel_size=(5, 5), stride=(1, 1), padding=(2, 2), bias=False)\n",
      "        (1): BatchNorm2d(9, eps=1e-05, momentum=0.1, affine=True, track_running_stats=True)\n",
      "        (2): ReLU()\n",
      "      )\n",
      "      (cca): CrissCrossAttention(\n",
      "        (query_conv): Conv2d(9, 1, kernel_size=(1, 1), stride=(1, 1))\n",
      "        (key_conv): Conv2d(9, 1, kernel_size=(1, 1), stride=(1, 1))\n",
      "        (value_conv): Conv2d(9, 9, kernel_size=(1, 1), stride=(1, 1))\n",
      "        (softmax): Softmax(dim=3)\n",
      "      )\n",
      "      (conv2): Sequential(\n",
      "        (0): Conv2d(9, 37, kernel_size=(5, 5), stride=(1, 1), padding=(2, 2), bias=False)\n",
      "        (1): BatchNorm2d(37, eps=1e-05, momentum=0.1, affine=True, track_running_stats=True)\n",
      "        (2): ReLU()\n",
      "      )\n",
      "    )\n",
      "  )\n",
      "  (out_omega): Sequential(\n",
      "    (0): Conv2d(64, 37, kernel_size=(5, 5), stride=(1, 1), padding=(2, 2))\n",
      "    (1): RCCAModule(\n",
      "      (conv1): Sequential(\n",
      "        (0): Conv2d(37, 9, kernel_size=(5, 5), stride=(1, 1), padding=(2, 2), bias=False)\n",
      "        (1): BatchNorm2d(9, eps=1e-05, momentum=0.1, affine=True, track_running_stats=True)\n",
      "        (2): ReLU()\n",
      "      )\n",
      "      (cca): CrissCrossAttention(\n",
      "        (query_conv): Conv2d(9, 1, kernel_size=(1, 1), stride=(1, 1))\n",
      "        (key_conv): Conv2d(9, 1, kernel_size=(1, 1), stride=(1, 1))\n",
      "        (value_conv): Conv2d(9, 9, kernel_size=(1, 1), stride=(1, 1))\n",
      "        (softmax): Softmax(dim=3)\n",
      "      )\n",
      "      (conv2): Sequential(\n",
      "        (0): Conv2d(9, 37, kernel_size=(5, 5), stride=(1, 1), padding=(2, 2), bias=False)\n",
      "        (1): BatchNorm2d(37, eps=1e-05, momentum=0.1, affine=True, track_running_stats=True)\n",
      "        (2): ReLU()\n",
      "      )\n",
      "    )\n",
      "  )\n",
      "  (out_theta): Sequential(\n",
      "    (0): Conv2d(64, 37, kernel_size=(5, 5), stride=(1, 1), padding=(2, 2))\n",
      "    (1): RCCAModule(\n",
      "      (conv1): Sequential(\n",
      "        (0): Conv2d(37, 9, kernel_size=(5, 5), stride=(1, 1), padding=(2, 2), bias=False)\n",
      "        (1): BatchNorm2d(9, eps=1e-05, momentum=0.1, affine=True, track_running_stats=True)\n",
      "        (2): ReLU()\n",
      "      )\n",
      "      (cca): CrissCrossAttention(\n",
      "        (query_conv): Conv2d(9, 1, kernel_size=(1, 1), stride=(1, 1))\n",
      "        (key_conv): Conv2d(9, 1, kernel_size=(1, 1), stride=(1, 1))\n",
      "        (value_conv): Conv2d(9, 9, kernel_size=(1, 1), stride=(1, 1))\n",
      "        (softmax): Softmax(dim=3)\n",
      "      )\n",
      "      (conv2): Sequential(\n",
      "        (0): Conv2d(9, 37, kernel_size=(5, 5), stride=(1, 1), padding=(2, 2), bias=False)\n",
      "        (1): BatchNorm2d(37, eps=1e-05, momentum=0.1, affine=True, track_running_stats=True)\n",
      "        (2): ReLU()\n",
      "      )\n",
      "    )\n",
      "  )\n",
      "  (out_phi): Sequential(\n",
      "    (0): Conv2d(64, 37, kernel_size=(5, 5), stride=(1, 1), padding=(2, 2))\n",
      "    (1): RCCAModule(\n",
      "      (conv1): Sequential(\n",
      "        (0): Conv2d(37, 9, kernel_size=(5, 5), stride=(1, 1), padding=(2, 2), bias=False)\n",
      "        (1): BatchNorm2d(9, eps=1e-05, momentum=0.1, affine=True, track_running_stats=True)\n",
      "        (2): ReLU()\n",
      "      )\n",
      "      (cca): CrissCrossAttention(\n",
      "        (query_conv): Conv2d(9, 1, kernel_size=(1, 1), stride=(1, 1))\n",
      "        (key_conv): Conv2d(9, 1, kernel_size=(1, 1), stride=(1, 1))\n",
      "        (value_conv): Conv2d(9, 9, kernel_size=(1, 1), stride=(1, 1))\n",
      "        (softmax): Softmax(dim=3)\n",
      "      )\n",
      "      (conv2): Sequential(\n",
      "        (0): Conv2d(9, 37, kernel_size=(5, 5), stride=(1, 1), padding=(2, 2), bias=False)\n",
      "        (1): BatchNorm2d(37, eps=1e-05, momentum=0.1, affine=True, track_running_stats=True)\n",
      "        (2): ReLU()\n",
      "      )\n",
      "    )\n",
      "  )\n",
      ")\n"
     ]
    }
   ],
   "source": [
    "criterion = FocalLoss(ignore_index=dataset.mask_fill_value)\n",
    "\n",
    "lr_modifier = torch.optim.lr_scheduler.ReduceLROnPlateau(optimizer,\n",
    "                                                            verbose=True)\n",
    "writer = SummaryWriter(os.path.join(out_dir, 'tensorboard'))\n",
    "\n",
    "\n",
    "\n",
    "\n",
    "print('Model:\\n', model)"
   ]
  },
  {
   "cell_type": "code",
   "execution_count": 11,
   "metadata": {},
   "outputs": [
    {
     "data": {
      "text/plain": [
       "{'num_out_bins': 37,\n",
       " 'num_blocks1D': 3,\n",
       " 'num_blocks2D': 25,\n",
       " 'dropout_proportion': 0.2,\n",
       " 'dilation_cycle': 5,\n",
       " 'lr': 0.01}"
      ]
     },
     "execution_count": 11,
     "metadata": {},
     "output_type": "execute_result"
    }
   ],
   "source": [
    "model=model\n",
    "train_loader=train_loader\n",
    "# validation_loader=validation_loader\n",
    "optimizer=optimizer\n",
    "device=device\n",
    "epochs=epochs\n",
    "current_epoch=current_epoch\n",
    "criterion=criterion\n",
    "lr_modifier=lr_modifier\n",
    "writer=writer\n",
    "save_file=os.path.join(out_dir, 'model')\n",
    "save_every=save_every\n",
    "properties=properties\n",
    "properties"
   ]
  },
  {
   "cell_type": "code",
   "execution_count": 12,
   "metadata": {},
   "outputs": [
    {
     "name": "stdout",
     "output_type": "stream",
     "text": [
      "Using CUDA:7 as device\n",
      "AbResNet(\n",
      "  (linear): Linear(in_features=1024, out_features=128, bias=True)\n",
      "  (relu): ReLU()\n",
      "  (resnet1D): ResNet1D(\n",
      "    (conv1): Conv1d(21, 32, kernel_size=(17,), stride=(1,), padding=(8,), bias=False)\n",
      "    (bn1): BatchNorm1d(32, eps=1e-05, momentum=0.1, affine=True, track_running_stats=True)\n",
      "    (layer0): Sequential(\n",
      "      (0): ResBlock1D(\n",
      "        (conv1): Conv1d(32, 32, kernel_size=(17,), stride=(1,), padding=(8,), bias=False)\n",
      "        (bn1): BatchNorm1d(32, eps=1e-05, momentum=0.1, affine=True, track_running_stats=True)\n",
      "        (conv2): Conv1d(32, 32, kernel_size=(17,), stride=(1,), padding=(8,), bias=False)\n",
      "        (bn2): BatchNorm1d(32, eps=1e-05, momentum=0.1, affine=True, track_running_stats=True)\n",
      "      )\n",
      "      (1): ResBlock1D(\n",
      "        (conv1): Conv1d(32, 32, kernel_size=(17,), stride=(1,), padding=(8,), bias=False)\n",
      "        (bn1): BatchNorm1d(32, eps=1e-05, momentum=0.1, affine=True, track_running_stats=True)\n",
      "        (conv2): Conv1d(32, 32, kernel_size=(17,), stride=(1,), padding=(8,), bias=False)\n",
      "        (bn2): BatchNorm1d(32, eps=1e-05, momentum=0.1, affine=True, track_running_stats=True)\n",
      "      )\n",
      "      (2): ResBlock1D(\n",
      "        (conv1): Conv1d(32, 32, kernel_size=(17,), stride=(1,), padding=(8,), bias=False)\n",
      "        (bn1): BatchNorm1d(32, eps=1e-05, momentum=0.1, affine=True, track_running_stats=True)\n",
      "        (conv2): Conv1d(32, 32, kernel_size=(17,), stride=(1,), padding=(8,), bias=False)\n",
      "        (bn2): BatchNorm1d(32, eps=1e-05, momentum=0.1, affine=True, track_running_stats=True)\n",
      "      )\n",
      "    )\n",
      "  )\n",
      "  (seq2pairwise): OuterConcatenation2D()\n",
      "  (resnet2D): ResNet2D(\n",
      "    (conv1): Conv2d(2112, 64, kernel_size=(5, 5), stride=(1, 1), padding=(2, 2), bias=False)\n",
      "    (bn1): BatchNorm2d(64, eps=1e-05, momentum=0.1, affine=True, track_running_stats=True)\n",
      "    (layer0): Sequential(\n",
      "      (0): ResBlock2D(\n",
      "        (conv1): Conv2d(64, 64, kernel_size=(5, 5), stride=(1, 1), padding=(2, 2), bias=False)\n",
      "        (bn1): BatchNorm2d(64, eps=1e-05, momentum=0.1, affine=True, track_running_stats=True)\n",
      "        (conv2): Conv2d(64, 64, kernel_size=(5, 5), stride=(1, 1), padding=(2, 2), bias=False)\n",
      "        (bn2): BatchNorm2d(64, eps=1e-05, momentum=0.1, affine=True, track_running_stats=True)\n",
      "      )\n",
      "      (1): ResBlock2D(\n",
      "        (conv1): Conv2d(64, 64, kernel_size=(5, 5), stride=(1, 1), padding=(4, 4), dilation=(2, 2), bias=False)\n",
      "        (bn1): BatchNorm2d(64, eps=1e-05, momentum=0.1, affine=True, track_running_stats=True)\n",
      "        (conv2): Conv2d(64, 64, kernel_size=(5, 5), stride=(1, 1), padding=(4, 4), dilation=(2, 2), bias=False)\n",
      "        (bn2): BatchNorm2d(64, eps=1e-05, momentum=0.1, affine=True, track_running_stats=True)\n",
      "      )\n",
      "      (2): ResBlock2D(\n",
      "        (conv1): Conv2d(64, 64, kernel_size=(5, 5), stride=(1, 1), padding=(8, 8), dilation=(4, 4), bias=False)\n",
      "        (bn1): BatchNorm2d(64, eps=1e-05, momentum=0.1, affine=True, track_running_stats=True)\n",
      "        (conv2): Conv2d(64, 64, kernel_size=(5, 5), stride=(1, 1), padding=(8, 8), dilation=(4, 4), bias=False)\n",
      "        (bn2): BatchNorm2d(64, eps=1e-05, momentum=0.1, affine=True, track_running_stats=True)\n",
      "      )\n",
      "      (3): ResBlock2D(\n",
      "        (conv1): Conv2d(64, 64, kernel_size=(5, 5), stride=(1, 1), padding=(16, 16), dilation=(8, 8), bias=False)\n",
      "        (bn1): BatchNorm2d(64, eps=1e-05, momentum=0.1, affine=True, track_running_stats=True)\n",
      "        (conv2): Conv2d(64, 64, kernel_size=(5, 5), stride=(1, 1), padding=(16, 16), dilation=(8, 8), bias=False)\n",
      "        (bn2): BatchNorm2d(64, eps=1e-05, momentum=0.1, affine=True, track_running_stats=True)\n",
      "      )\n",
      "      (4): ResBlock2D(\n",
      "        (conv1): Conv2d(64, 64, kernel_size=(5, 5), stride=(1, 1), padding=(32, 32), dilation=(16, 16), bias=False)\n",
      "        (bn1): BatchNorm2d(64, eps=1e-05, momentum=0.1, affine=True, track_running_stats=True)\n",
      "        (conv2): Conv2d(64, 64, kernel_size=(5, 5), stride=(1, 1), padding=(32, 32), dilation=(16, 16), bias=False)\n",
      "        (bn2): BatchNorm2d(64, eps=1e-05, momentum=0.1, affine=True, track_running_stats=True)\n",
      "      )\n",
      "      (5): ResBlock2D(\n",
      "        (conv1): Conv2d(64, 64, kernel_size=(5, 5), stride=(1, 1), padding=(2, 2), bias=False)\n",
      "        (bn1): BatchNorm2d(64, eps=1e-05, momentum=0.1, affine=True, track_running_stats=True)\n",
      "        (conv2): Conv2d(64, 64, kernel_size=(5, 5), stride=(1, 1), padding=(2, 2), bias=False)\n",
      "        (bn2): BatchNorm2d(64, eps=1e-05, momentum=0.1, affine=True, track_running_stats=True)\n",
      "      )\n",
      "      (6): ResBlock2D(\n",
      "        (conv1): Conv2d(64, 64, kernel_size=(5, 5), stride=(1, 1), padding=(4, 4), dilation=(2, 2), bias=False)\n",
      "        (bn1): BatchNorm2d(64, eps=1e-05, momentum=0.1, affine=True, track_running_stats=True)\n",
      "        (conv2): Conv2d(64, 64, kernel_size=(5, 5), stride=(1, 1), padding=(4, 4), dilation=(2, 2), bias=False)\n",
      "        (bn2): BatchNorm2d(64, eps=1e-05, momentum=0.1, affine=True, track_running_stats=True)\n",
      "      )\n",
      "      (7): ResBlock2D(\n",
      "        (conv1): Conv2d(64, 64, kernel_size=(5, 5), stride=(1, 1), padding=(8, 8), dilation=(4, 4), bias=False)\n",
      "        (bn1): BatchNorm2d(64, eps=1e-05, momentum=0.1, affine=True, track_running_stats=True)\n",
      "        (conv2): Conv2d(64, 64, kernel_size=(5, 5), stride=(1, 1), padding=(8, 8), dilation=(4, 4), bias=False)\n",
      "        (bn2): BatchNorm2d(64, eps=1e-05, momentum=0.1, affine=True, track_running_stats=True)\n",
      "      )\n",
      "      (8): ResBlock2D(\n",
      "        (conv1): Conv2d(64, 64, kernel_size=(5, 5), stride=(1, 1), padding=(16, 16), dilation=(8, 8), bias=False)\n",
      "        (bn1): BatchNorm2d(64, eps=1e-05, momentum=0.1, affine=True, track_running_stats=True)\n",
      "        (conv2): Conv2d(64, 64, kernel_size=(5, 5), stride=(1, 1), padding=(16, 16), dilation=(8, 8), bias=False)\n",
      "        (bn2): BatchNorm2d(64, eps=1e-05, momentum=0.1, affine=True, track_running_stats=True)\n",
      "      )\n",
      "      (9): ResBlock2D(\n",
      "        (conv1): Conv2d(64, 64, kernel_size=(5, 5), stride=(1, 1), padding=(32, 32), dilation=(16, 16), bias=False)\n",
      "        (bn1): BatchNorm2d(64, eps=1e-05, momentum=0.1, affine=True, track_running_stats=True)\n",
      "        (conv2): Conv2d(64, 64, kernel_size=(5, 5), stride=(1, 1), padding=(32, 32), dilation=(16, 16), bias=False)\n",
      "        (bn2): BatchNorm2d(64, eps=1e-05, momentum=0.1, affine=True, track_running_stats=True)\n",
      "      )\n",
      "      (10): ResBlock2D(\n",
      "        (conv1): Conv2d(64, 64, kernel_size=(5, 5), stride=(1, 1), padding=(2, 2), bias=False)\n",
      "        (bn1): BatchNorm2d(64, eps=1e-05, momentum=0.1, affine=True, track_running_stats=True)\n",
      "        (conv2): Conv2d(64, 64, kernel_size=(5, 5), stride=(1, 1), padding=(2, 2), bias=False)\n",
      "        (bn2): BatchNorm2d(64, eps=1e-05, momentum=0.1, affine=True, track_running_stats=True)\n",
      "      )\n",
      "      (11): ResBlock2D(\n",
      "        (conv1): Conv2d(64, 64, kernel_size=(5, 5), stride=(1, 1), padding=(4, 4), dilation=(2, 2), bias=False)\n",
      "        (bn1): BatchNorm2d(64, eps=1e-05, momentum=0.1, affine=True, track_running_stats=True)\n",
      "        (conv2): Conv2d(64, 64, kernel_size=(5, 5), stride=(1, 1), padding=(4, 4), dilation=(2, 2), bias=False)\n",
      "        (bn2): BatchNorm2d(64, eps=1e-05, momentum=0.1, affine=True, track_running_stats=True)\n",
      "      )\n",
      "      (12): ResBlock2D(\n",
      "        (conv1): Conv2d(64, 64, kernel_size=(5, 5), stride=(1, 1), padding=(8, 8), dilation=(4, 4), bias=False)\n",
      "        (bn1): BatchNorm2d(64, eps=1e-05, momentum=0.1, affine=True, track_running_stats=True)\n",
      "        (conv2): Conv2d(64, 64, kernel_size=(5, 5), stride=(1, 1), padding=(8, 8), dilation=(4, 4), bias=False)\n",
      "        (bn2): BatchNorm2d(64, eps=1e-05, momentum=0.1, affine=True, track_running_stats=True)\n",
      "      )\n",
      "      (13): ResBlock2D(\n",
      "        (conv1): Conv2d(64, 64, kernel_size=(5, 5), stride=(1, 1), padding=(16, 16), dilation=(8, 8), bias=False)\n",
      "        (bn1): BatchNorm2d(64, eps=1e-05, momentum=0.1, affine=True, track_running_stats=True)\n",
      "        (conv2): Conv2d(64, 64, kernel_size=(5, 5), stride=(1, 1), padding=(16, 16), dilation=(8, 8), bias=False)\n",
      "        (bn2): BatchNorm2d(64, eps=1e-05, momentum=0.1, affine=True, track_running_stats=True)\n",
      "      )\n",
      "      (14): ResBlock2D(\n",
      "        (conv1): Conv2d(64, 64, kernel_size=(5, 5), stride=(1, 1), padding=(32, 32), dilation=(16, 16), bias=False)\n",
      "        (bn1): BatchNorm2d(64, eps=1e-05, momentum=0.1, affine=True, track_running_stats=True)\n",
      "        (conv2): Conv2d(64, 64, kernel_size=(5, 5), stride=(1, 1), padding=(32, 32), dilation=(16, 16), bias=False)\n",
      "        (bn2): BatchNorm2d(64, eps=1e-05, momentum=0.1, affine=True, track_running_stats=True)\n",
      "      )\n",
      "      (15): ResBlock2D(\n",
      "        (conv1): Conv2d(64, 64, kernel_size=(5, 5), stride=(1, 1), padding=(2, 2), bias=False)\n",
      "        (bn1): BatchNorm2d(64, eps=1e-05, momentum=0.1, affine=True, track_running_stats=True)\n",
      "        (conv2): Conv2d(64, 64, kernel_size=(5, 5), stride=(1, 1), padding=(2, 2), bias=False)\n",
      "        (bn2): BatchNorm2d(64, eps=1e-05, momentum=0.1, affine=True, track_running_stats=True)\n",
      "      )\n",
      "      (16): ResBlock2D(\n",
      "        (conv1): Conv2d(64, 64, kernel_size=(5, 5), stride=(1, 1), padding=(4, 4), dilation=(2, 2), bias=False)\n",
      "        (bn1): BatchNorm2d(64, eps=1e-05, momentum=0.1, affine=True, track_running_stats=True)\n",
      "        (conv2): Conv2d(64, 64, kernel_size=(5, 5), stride=(1, 1), padding=(4, 4), dilation=(2, 2), bias=False)\n",
      "        (bn2): BatchNorm2d(64, eps=1e-05, momentum=0.1, affine=True, track_running_stats=True)\n",
      "      )\n",
      "      (17): ResBlock2D(\n",
      "        (conv1): Conv2d(64, 64, kernel_size=(5, 5), stride=(1, 1), padding=(8, 8), dilation=(4, 4), bias=False)\n",
      "        (bn1): BatchNorm2d(64, eps=1e-05, momentum=0.1, affine=True, track_running_stats=True)\n",
      "        (conv2): Conv2d(64, 64, kernel_size=(5, 5), stride=(1, 1), padding=(8, 8), dilation=(4, 4), bias=False)\n",
      "        (bn2): BatchNorm2d(64, eps=1e-05, momentum=0.1, affine=True, track_running_stats=True)\n",
      "      )\n",
      "      (18): ResBlock2D(\n",
      "        (conv1): Conv2d(64, 64, kernel_size=(5, 5), stride=(1, 1), padding=(16, 16), dilation=(8, 8), bias=False)\n",
      "        (bn1): BatchNorm2d(64, eps=1e-05, momentum=0.1, affine=True, track_running_stats=True)\n",
      "        (conv2): Conv2d(64, 64, kernel_size=(5, 5), stride=(1, 1), padding=(16, 16), dilation=(8, 8), bias=False)\n",
      "        (bn2): BatchNorm2d(64, eps=1e-05, momentum=0.1, affine=True, track_running_stats=True)\n",
      "      )\n",
      "      (19): ResBlock2D(\n",
      "        (conv1): Conv2d(64, 64, kernel_size=(5, 5), stride=(1, 1), padding=(32, 32), dilation=(16, 16), bias=False)\n",
      "        (bn1): BatchNorm2d(64, eps=1e-05, momentum=0.1, affine=True, track_running_stats=True)\n",
      "        (conv2): Conv2d(64, 64, kernel_size=(5, 5), stride=(1, 1), padding=(32, 32), dilation=(16, 16), bias=False)\n",
      "        (bn2): BatchNorm2d(64, eps=1e-05, momentum=0.1, affine=True, track_running_stats=True)\n",
      "      )\n",
      "      (20): ResBlock2D(\n",
      "        (conv1): Conv2d(64, 64, kernel_size=(5, 5), stride=(1, 1), padding=(2, 2), bias=False)\n",
      "        (bn1): BatchNorm2d(64, eps=1e-05, momentum=0.1, affine=True, track_running_stats=True)\n",
      "        (conv2): Conv2d(64, 64, kernel_size=(5, 5), stride=(1, 1), padding=(2, 2), bias=False)\n",
      "        (bn2): BatchNorm2d(64, eps=1e-05, momentum=0.1, affine=True, track_running_stats=True)\n",
      "      )\n",
      "      (21): ResBlock2D(\n",
      "        (conv1): Conv2d(64, 64, kernel_size=(5, 5), stride=(1, 1), padding=(4, 4), dilation=(2, 2), bias=False)\n",
      "        (bn1): BatchNorm2d(64, eps=1e-05, momentum=0.1, affine=True, track_running_stats=True)\n",
      "        (conv2): Conv2d(64, 64, kernel_size=(5, 5), stride=(1, 1), padding=(4, 4), dilation=(2, 2), bias=False)\n",
      "        (bn2): BatchNorm2d(64, eps=1e-05, momentum=0.1, affine=True, track_running_stats=True)\n",
      "      )\n",
      "      (22): ResBlock2D(\n",
      "        (conv1): Conv2d(64, 64, kernel_size=(5, 5), stride=(1, 1), padding=(8, 8), dilation=(4, 4), bias=False)\n",
      "        (bn1): BatchNorm2d(64, eps=1e-05, momentum=0.1, affine=True, track_running_stats=True)\n",
      "        (conv2): Conv2d(64, 64, kernel_size=(5, 5), stride=(1, 1), padding=(8, 8), dilation=(4, 4), bias=False)\n",
      "        (bn2): BatchNorm2d(64, eps=1e-05, momentum=0.1, affine=True, track_running_stats=True)\n",
      "      )\n",
      "      (23): ResBlock2D(\n",
      "        (conv1): Conv2d(64, 64, kernel_size=(5, 5), stride=(1, 1), padding=(16, 16), dilation=(8, 8), bias=False)\n",
      "        (bn1): BatchNorm2d(64, eps=1e-05, momentum=0.1, affine=True, track_running_stats=True)\n",
      "        (conv2): Conv2d(64, 64, kernel_size=(5, 5), stride=(1, 1), padding=(16, 16), dilation=(8, 8), bias=False)\n",
      "        (bn2): BatchNorm2d(64, eps=1e-05, momentum=0.1, affine=True, track_running_stats=True)\n",
      "      )\n",
      "      (24): ResBlock2D(\n",
      "        (conv1): Conv2d(64, 64, kernel_size=(5, 5), stride=(1, 1), padding=(32, 32), dilation=(16, 16), bias=False)\n",
      "        (bn1): BatchNorm2d(64, eps=1e-05, momentum=0.1, affine=True, track_running_stats=True)\n",
      "        (conv2): Conv2d(64, 64, kernel_size=(5, 5), stride=(1, 1), padding=(32, 32), dilation=(16, 16), bias=False)\n",
      "        (bn2): BatchNorm2d(64, eps=1e-05, momentum=0.1, affine=True, track_running_stats=True)\n",
      "      )\n",
      "    )\n",
      "  )\n",
      "  (out_dropout): Dropout2d(p=0.2, inplace=False)\n",
      "  (out_ca_dist): Sequential(\n",
      "    (0): Conv2d(64, 37, kernel_size=(5, 5), stride=(1, 1), padding=(2, 2))\n",
      "    (1): RCCAModule(\n",
      "      (conv1): Sequential(\n",
      "        (0): Conv2d(37, 9, kernel_size=(5, 5), stride=(1, 1), padding=(2, 2), bias=False)\n",
      "        (1): BatchNorm2d(9, eps=1e-05, momentum=0.1, affine=True, track_running_stats=True)\n",
      "        (2): ReLU()\n",
      "      )\n",
      "      (cca): CrissCrossAttention(\n",
      "        (query_conv): Conv2d(9, 1, kernel_size=(1, 1), stride=(1, 1))\n",
      "        (key_conv): Conv2d(9, 1, kernel_size=(1, 1), stride=(1, 1))\n",
      "        (value_conv): Conv2d(9, 9, kernel_size=(1, 1), stride=(1, 1))\n",
      "        (softmax): Softmax(dim=3)\n",
      "      )\n",
      "      (conv2): Sequential(\n",
      "        (0): Conv2d(9, 37, kernel_size=(5, 5), stride=(1, 1), padding=(2, 2), bias=False)\n",
      "        (1): BatchNorm2d(37, eps=1e-05, momentum=0.1, affine=True, track_running_stats=True)\n",
      "        (2): ReLU()\n",
      "      )\n",
      "    )\n",
      "  )\n",
      "  (out_cb_dist): Sequential(\n",
      "    (0): Conv2d(64, 37, kernel_size=(5, 5), stride=(1, 1), padding=(2, 2))\n",
      "    (1): RCCAModule(\n",
      "      (conv1): Sequential(\n",
      "        (0): Conv2d(37, 9, kernel_size=(5, 5), stride=(1, 1), padding=(2, 2), bias=False)\n",
      "        (1): BatchNorm2d(9, eps=1e-05, momentum=0.1, affine=True, track_running_stats=True)\n",
      "        (2): ReLU()\n",
      "      )\n",
      "      (cca): CrissCrossAttention(\n",
      "        (query_conv): Conv2d(9, 1, kernel_size=(1, 1), stride=(1, 1))\n",
      "        (key_conv): Conv2d(9, 1, kernel_size=(1, 1), stride=(1, 1))\n",
      "        (value_conv): Conv2d(9, 9, kernel_size=(1, 1), stride=(1, 1))\n",
      "        (softmax): Softmax(dim=3)\n",
      "      )\n",
      "      (conv2): Sequential(\n",
      "        (0): Conv2d(9, 37, kernel_size=(5, 5), stride=(1, 1), padding=(2, 2), bias=False)\n",
      "        (1): BatchNorm2d(37, eps=1e-05, momentum=0.1, affine=True, track_running_stats=True)\n",
      "        (2): ReLU()\n",
      "      )\n",
      "    )\n",
      "  )\n",
      "  (out_no_dist): Sequential(\n",
      "    (0): Conv2d(64, 37, kernel_size=(5, 5), stride=(1, 1), padding=(2, 2))\n",
      "    (1): RCCAModule(\n",
      "      (conv1): Sequential(\n",
      "        (0): Conv2d(37, 9, kernel_size=(5, 5), stride=(1, 1), padding=(2, 2), bias=False)\n",
      "        (1): BatchNorm2d(9, eps=1e-05, momentum=0.1, affine=True, track_running_stats=True)\n",
      "        (2): ReLU()\n",
      "      )\n",
      "      (cca): CrissCrossAttention(\n",
      "        (query_conv): Conv2d(9, 1, kernel_size=(1, 1), stride=(1, 1))\n",
      "        (key_conv): Conv2d(9, 1, kernel_size=(1, 1), stride=(1, 1))\n",
      "        (value_conv): Conv2d(9, 9, kernel_size=(1, 1), stride=(1, 1))\n",
      "        (softmax): Softmax(dim=3)\n",
      "      )\n",
      "      (conv2): Sequential(\n",
      "        (0): Conv2d(9, 37, kernel_size=(5, 5), stride=(1, 1), padding=(2, 2), bias=False)\n",
      "        (1): BatchNorm2d(37, eps=1e-05, momentum=0.1, affine=True, track_running_stats=True)\n",
      "        (2): ReLU()\n",
      "      )\n",
      "    )\n",
      "  )\n",
      "  (out_omega): Sequential(\n",
      "    (0): Conv2d(64, 37, kernel_size=(5, 5), stride=(1, 1), padding=(2, 2))\n",
      "    (1): RCCAModule(\n",
      "      (conv1): Sequential(\n",
      "        (0): Conv2d(37, 9, kernel_size=(5, 5), stride=(1, 1), padding=(2, 2), bias=False)\n",
      "        (1): BatchNorm2d(9, eps=1e-05, momentum=0.1, affine=True, track_running_stats=True)\n",
      "        (2): ReLU()\n",
      "      )\n",
      "      (cca): CrissCrossAttention(\n",
      "        (query_conv): Conv2d(9, 1, kernel_size=(1, 1), stride=(1, 1))\n",
      "        (key_conv): Conv2d(9, 1, kernel_size=(1, 1), stride=(1, 1))\n",
      "        (value_conv): Conv2d(9, 9, kernel_size=(1, 1), stride=(1, 1))\n",
      "        (softmax): Softmax(dim=3)\n",
      "      )\n",
      "      (conv2): Sequential(\n",
      "        (0): Conv2d(9, 37, kernel_size=(5, 5), stride=(1, 1), padding=(2, 2), bias=False)\n",
      "        (1): BatchNorm2d(37, eps=1e-05, momentum=0.1, affine=True, track_running_stats=True)\n",
      "        (2): ReLU()\n",
      "      )\n",
      "    )\n",
      "  )\n",
      "  (out_theta): Sequential(\n",
      "    (0): Conv2d(64, 37, kernel_size=(5, 5), stride=(1, 1), padding=(2, 2))\n",
      "    (1): RCCAModule(\n",
      "      (conv1): Sequential(\n",
      "        (0): Conv2d(37, 9, kernel_size=(5, 5), stride=(1, 1), padding=(2, 2), bias=False)\n",
      "        (1): BatchNorm2d(9, eps=1e-05, momentum=0.1, affine=True, track_running_stats=True)\n",
      "        (2): ReLU()\n",
      "      )\n",
      "      (cca): CrissCrossAttention(\n",
      "        (query_conv): Conv2d(9, 1, kernel_size=(1, 1), stride=(1, 1))\n",
      "        (key_conv): Conv2d(9, 1, kernel_size=(1, 1), stride=(1, 1))\n",
      "        (value_conv): Conv2d(9, 9, kernel_size=(1, 1), stride=(1, 1))\n",
      "        (softmax): Softmax(dim=3)\n",
      "      )\n",
      "      (conv2): Sequential(\n",
      "        (0): Conv2d(9, 37, kernel_size=(5, 5), stride=(1, 1), padding=(2, 2), bias=False)\n",
      "        (1): BatchNorm2d(37, eps=1e-05, momentum=0.1, affine=True, track_running_stats=True)\n",
      "        (2): ReLU()\n",
      "      )\n",
      "    )\n",
      "  )\n",
      "  (out_phi): Sequential(\n",
      "    (0): Conv2d(64, 37, kernel_size=(5, 5), stride=(1, 1), padding=(2, 2))\n",
      "    (1): RCCAModule(\n",
      "      (conv1): Sequential(\n",
      "        (0): Conv2d(37, 9, kernel_size=(5, 5), stride=(1, 1), padding=(2, 2), bias=False)\n",
      "        (1): BatchNorm2d(9, eps=1e-05, momentum=0.1, affine=True, track_running_stats=True)\n",
      "        (2): ReLU()\n",
      "      )\n",
      "      (cca): CrissCrossAttention(\n",
      "        (query_conv): Conv2d(9, 1, kernel_size=(1, 1), stride=(1, 1))\n",
      "        (key_conv): Conv2d(9, 1, kernel_size=(1, 1), stride=(1, 1))\n",
      "        (value_conv): Conv2d(9, 9, kernel_size=(1, 1), stride=(1, 1))\n",
      "        (softmax): Softmax(dim=3)\n",
      "      )\n",
      "      (conv2): Sequential(\n",
      "        (0): Conv2d(9, 37, kernel_size=(5, 5), stride=(1, 1), padding=(2, 2), bias=False)\n",
      "        (1): BatchNorm2d(37, eps=1e-05, momentum=0.1, affine=True, track_running_stats=True)\n",
      "        (2): ReLU()\n",
      "      )\n",
      "    )\n",
      "  )\n",
      ")\n"
     ]
    }
   ],
   "source": [
    "properties = {} if properties is None else properties\n",
    "print('Using {} as device'.format(str(device).upper()))\n",
    "model = model.to(device)\n",
    "print(model)\n",
    "loss_size = len(_output_names) + 1"
   ]
  },
  {
   "cell_type": "code",
   "execution_count": 13,
   "metadata": {},
   "outputs": [],
   "source": [
    "def train_epoch(model, train_loader, optimizer, device, criterion, loss_size):\n",
    "    \"\"\"Trains a model for one epoch\"\"\"\n",
    "    model.train()\n",
    "    running_losses = torch.zeros(loss_size)\n",
    "    for inputs,e,max_len,labels in tqdm(train_loader, total=len(train_loader)):\n",
    "        inputs = inputs.to(device)\n",
    "        labels = [label.to(device) for label in labels]\n",
    "        \n",
    "        emb=torch.stack([x.clone().detach() for x in e])\n",
    "        tensor_list = [torch.tensor(x, dtype=torch.int32) for x in max_len]\n",
    "        unpadded_tensor = emb[:, :, :max(tensor_list)]\n",
    "        \n",
    "\n",
    "        optimizer.zero_grad()\n",
    "\n",
    "        def handle_batch():\n",
    "            outputs = model(inputs,unpadded_tensor.to(device))\n",
    "\n",
    "            losses = [\n",
    "                criterion(output, label)\n",
    "                for output, label in zip(outputs, labels)\n",
    "            ]\n",
    "            total_loss = sum(losses)\n",
    "            losses.append(total_loss)\n",
    "\n",
    "            total_loss.backward()\n",
    "            optimizer.step()\n",
    "            return outputs, torch.Tensor([float(l.item()) for l in losses])\n",
    "\n",
    "        outputs, batch_loss = handle_batch()\n",
    "        running_losses += batch_loss\n",
    "\n",
    "    return running_losses\n",
    "\n",
    "\n",
    "def validate(model, validation_loader, device, criterion, loss_size):\n",
    "    \"\"\"\"\"\"\n",
    "    with torch.no_grad():\n",
    "        model.eval()\n",
    "        running_losses = torch.zeros(loss_size)\n",
    "        for  inputs,e,max_len,labels in tqdm(validation_loader,\n",
    "                                   total=len(validation_loader)):\n",
    "            inputs = inputs.to(device)\n",
    "            labels = [label.to(device) for label in labels]\n",
    "            emb=torch.stack([x.clone().detach() for x in e])\n",
    "            tensor_list = [torch.tensor(x, dtype=torch.int32) for x in max_len]\n",
    "            unpadded_tensor = emb[:, :, :max(tensor_list)]\n",
    "\n",
    "            def handle_batch():\n",
    "                outputs = model(inputs,unpadded_tensor.to(device))\n",
    "\n",
    "                losses = [\n",
    "                    criterion(output, label)\n",
    "                    for output, label in zip(outputs, labels)\n",
    "                ]\n",
    "                total_loss = sum(losses)\n",
    "                losses.append(total_loss)\n",
    "\n",
    "                return outputs, torch.Tensor([float(l.item()) for l in losses])\n",
    "\n",
    "            outputs, batch_loss = handle_batch()\n",
    "            running_losses += batch_loss\n",
    "    return running_losses"
   ]
  },
  {
   "cell_type": "code",
   "execution_count": 14,
   "metadata": {},
   "outputs": [
    {
     "name": "stderr",
     "output_type": "stream",
     "text": [
      "100%|██████████| 3/3 [00:18<00:00,  6.32s/it]\n"
     ]
    },
    {
     "name": "stdout",
     "output_type": "stream",
     "text": [
      "\n",
      "Average training loss (epoch 0): {'ca_dist': 3.7945549488067627, 'cb_dist': 3.77087140083313, 'no_dist': 3.566787004470825, 'omega': 3.743830919265747, 'theta': 3.485022783279419, 'phi': 3.548717737197876, 'total': 21.9097843170166}\n"
     ]
    },
    {
     "name": "stderr",
     "output_type": "stream",
     "text": [
      "  0%|          | 0/1 [00:00<?, ?it/s]/home/pasang/.local/lib/python3.7/site-packages/torch/utils/checkpoint.py:25: UserWarning: None of the inputs have requires_grad=True. Gradients will be None\n",
      "  warnings.warn(\"None of the inputs have requires_grad=True. Gradients will be None\")\n",
      "100%|██████████| 1/1 [00:00<00:00,  1.24it/s]\n"
     ]
    },
    {
     "name": "stdout",
     "output_type": "stream",
     "text": [
      "\n",
      "Average validation loss (epoch 0): {'ca_dist': 1562516127744.0, 'cb_dist': 205191823360.0, 'no_dist': 1562351370240.0, 'omega': 539834941440.0, 'theta': 49077133312.0, 'phi': 175577612288.0, 'total': 4094548770816.0}\n"
     ]
    },
    {
     "name": "stderr",
     "output_type": "stream",
     "text": [
      "100%|██████████| 3/3 [00:14<00:00,  4.73s/it]\n"
     ]
    },
    {
     "name": "stdout",
     "output_type": "stream",
     "text": [
      "\n",
      "Average training loss (epoch 1): {'ca_dist': 3.253105878829956, 'cb_dist': 3.0995094776153564, 'no_dist': 3.317845106124878, 'omega': 3.0197160243988037, 'theta': 3.2216269969940186, 'phi': 3.2517940998077393, 'total': 19.163597106933594}\n"
     ]
    },
    {
     "name": "stderr",
     "output_type": "stream",
     "text": [
      "100%|██████████| 1/1 [00:00<00:00,  1.27it/s]\n"
     ]
    },
    {
     "name": "stdout",
     "output_type": "stream",
     "text": [
      "\n",
      "Average validation loss (epoch 1): {'ca_dist': 42.96299743652344, 'cb_dist': 44332.28515625, 'no_dist': 129278.9140625, 'omega': 491.0773010253906, 'theta': 10.39402961730957, 'phi': 22767.755859375, 'total': 196923.375}\n"
     ]
    },
    {
     "name": "stderr",
     "output_type": "stream",
     "text": [
      "100%|██████████| 3/3 [00:14<00:00,  4.75s/it]\n"
     ]
    },
    {
     "name": "stdout",
     "output_type": "stream",
     "text": [
      "\n",
      "Average training loss (epoch 2): {'ca_dist': 2.846576690673828, 'cb_dist': 2.7361552715301514, 'no_dist': 3.191948175430298, 'omega': 2.731806516647339, 'theta': 3.108985185623169, 'phi': 3.073443651199341, 'total': 17.688913345336914}\n"
     ]
    },
    {
     "name": "stderr",
     "output_type": "stream",
     "text": [
      "100%|██████████| 1/1 [00:00<00:00,  1.35it/s]\n"
     ]
    },
    {
     "name": "stdout",
     "output_type": "stream",
     "text": [
      "\n",
      "Average validation loss (epoch 2): {'ca_dist': 3.484076738357544, 'cb_dist': 9.450819969177246, 'no_dist': 528.4789428710938, 'omega': 19.92108154296875, 'theta': 337.87432861328125, 'phi': 181.99420166015625, 'total': 1081.203369140625}\n"
     ]
    },
    {
     "name": "stderr",
     "output_type": "stream",
     "text": [
      "100%|██████████| 3/3 [00:14<00:00,  4.72s/it]\n"
     ]
    },
    {
     "name": "stdout",
     "output_type": "stream",
     "text": [
      "\n",
      "Average training loss (epoch 3): {'ca_dist': 2.6886870861053467, 'cb_dist': 2.526691198348999, 'no_dist': 3.1403071880340576, 'omega': 2.5373518466949463, 'theta': 3.057852029800415, 'phi': 2.972414016723633, 'total': 16.923301696777344}\n"
     ]
    },
    {
     "name": "stderr",
     "output_type": "stream",
     "text": [
      "100%|██████████| 1/1 [00:00<00:00,  1.32it/s]\n"
     ]
    },
    {
     "name": "stdout",
     "output_type": "stream",
     "text": [
      "\n",
      "Average validation loss (epoch 3): {'ca_dist': 45.65190505981445, 'cb_dist': 78.73109436035156, 'no_dist': 13.042495727539062, 'omega': 79.58202362060547, 'theta': 21.55893325805664, 'phi': 3.418403387069702, 'total': 241.98483276367188}\n"
     ]
    },
    {
     "name": "stderr",
     "output_type": "stream",
     "text": [
      "100%|██████████| 3/3 [00:14<00:00,  4.75s/it]\n"
     ]
    },
    {
     "name": "stdout",
     "output_type": "stream",
     "text": [
      "\n",
      "Average training loss (epoch 4): {'ca_dist': 2.617968797683716, 'cb_dist': 2.431241989135742, 'no_dist': 3.0856196880340576, 'omega': 2.4484364986419678, 'theta': 3.015669584274292, 'phi': 2.9273059368133545, 'total': 16.526241302490234}\n"
     ]
    },
    {
     "name": "stderr",
     "output_type": "stream",
     "text": [
      "100%|██████████| 1/1 [00:00<00:00,  1.29it/s]\n"
     ]
    },
    {
     "name": "stdout",
     "output_type": "stream",
     "text": [
      "\n",
      "Average validation loss (epoch 4): {'ca_dist': 3.0745346546173096, 'cb_dist': 3.6844160556793213, 'no_dist': 3.5483922958374023, 'omega': 3.757876396179199, 'theta': 3.3905251026153564, 'phi': 3.4184699058532715, 'total': 20.87421417236328}\n"
     ]
    },
    {
     "name": "stderr",
     "output_type": "stream",
     "text": [
      "100%|██████████| 3/3 [00:14<00:00,  4.72s/it]\n"
     ]
    },
    {
     "name": "stdout",
     "output_type": "stream",
     "text": [
      "\n",
      "Average training loss (epoch 5): {'ca_dist': 2.5262811183929443, 'cb_dist': 2.3530848026275635, 'no_dist': 3.019594192504883, 'omega': 2.367924213409424, 'theta': 2.985360860824585, 'phi': 2.8815536499023438, 'total': 16.133798599243164}\n"
     ]
    },
    {
     "name": "stderr",
     "output_type": "stream",
     "text": [
      "100%|██████████| 1/1 [00:00<00:00,  1.57it/s]\n"
     ]
    },
    {
     "name": "stdout",
     "output_type": "stream",
     "text": [
      "\n",
      "Average validation loss (epoch 5): {'ca_dist': 1.9367501735687256, 'cb_dist': 1.9037513732910156, 'no_dist': 2.736081123352051, 'omega': 2.5462734699249268, 'theta': 2.6399238109588623, 'phi': 2.829958200454712, 'total': 14.592738151550293}\n"
     ]
    },
    {
     "name": "stderr",
     "output_type": "stream",
     "text": [
      "100%|██████████| 3/3 [00:14<00:00,  4.76s/it]\n"
     ]
    },
    {
     "name": "stdout",
     "output_type": "stream",
     "text": [
      "\n",
      "Average training loss (epoch 6): {'ca_dist': 2.417114496231079, 'cb_dist': 2.2918741703033447, 'no_dist': 2.9638259410858154, 'omega': 2.310480833053589, 'theta': 2.9521169662475586, 'phi': 2.8577516078948975, 'total': 15.793164253234863}\n"
     ]
    },
    {
     "name": "stderr",
     "output_type": "stream",
     "text": [
      "100%|██████████| 1/1 [00:00<00:00,  1.38it/s]\n"
     ]
    },
    {
     "name": "stdout",
     "output_type": "stream",
     "text": [
      "\n",
      "Average validation loss (epoch 6): {'ca_dist': 2.026782989501953, 'cb_dist': 2.2612438201904297, 'no_dist': 2.9551162719726562, 'omega': 2.257906198501587, 'theta': 2.649580478668213, 'phi': 2.671962261199951, 'total': 14.822591781616211}\n"
     ]
    },
    {
     "name": "stderr",
     "output_type": "stream",
     "text": [
      "100%|██████████| 3/3 [00:14<00:00,  4.73s/it]\n"
     ]
    },
    {
     "name": "stdout",
     "output_type": "stream",
     "text": [
      "\n",
      "Average training loss (epoch 7): {'ca_dist': 2.3290693759918213, 'cb_dist': 2.237582206726074, 'no_dist': 2.907475471496582, 'omega': 2.2402865886688232, 'theta': 2.9256317615509033, 'phi': 2.8253767490386963, 'total': 15.465423583984375}\n"
     ]
    },
    {
     "name": "stderr",
     "output_type": "stream",
     "text": [
      "100%|██████████| 1/1 [00:00<00:00,  1.31it/s]\n"
     ]
    },
    {
     "name": "stdout",
     "output_type": "stream",
     "text": [
      "\n",
      "Average validation loss (epoch 7): {'ca_dist': 1.8983323574066162, 'cb_dist': 2.382483959197998, 'no_dist': 3.082764148712158, 'omega': 2.3018598556518555, 'theta': 2.7709763050079346, 'phi': 2.6944429874420166, 'total': 15.130858421325684}\n"
     ]
    },
    {
     "name": "stderr",
     "output_type": "stream",
     "text": [
      "100%|██████████| 3/3 [00:14<00:00,  4.74s/it]\n"
     ]
    },
    {
     "name": "stdout",
     "output_type": "stream",
     "text": [
      "\n",
      "Average training loss (epoch 8): {'ca_dist': 2.233607053756714, 'cb_dist': 2.1843109130859375, 'no_dist': 2.8309030532836914, 'omega': 2.1793630123138428, 'theta': 2.8953120708465576, 'phi': 2.7857038974761963, 'total': 15.109200477600098}\n"
     ]
    },
    {
     "name": "stderr",
     "output_type": "stream",
     "text": [
      "100%|██████████| 1/1 [00:00<00:00,  1.31it/s]\n"
     ]
    },
    {
     "name": "stdout",
     "output_type": "stream",
     "text": [
      "\n",
      "Average validation loss (epoch 8): {'ca_dist': 1.9897805452346802, 'cb_dist': 2.2980785369873047, 'no_dist': 3.038214683532715, 'omega': 2.275294065475464, 'theta': 2.8349175453186035, 'phi': 2.7661499977111816, 'total': 15.202434539794922}\n"
     ]
    },
    {
     "name": "stderr",
     "output_type": "stream",
     "text": [
      "100%|██████████| 3/3 [00:14<00:00,  4.70s/it]\n"
     ]
    },
    {
     "name": "stdout",
     "output_type": "stream",
     "text": [
      "\n",
      "Average training loss (epoch 9): {'ca_dist': 2.1444685459136963, 'cb_dist': 2.125218629837036, 'no_dist': 2.7486705780029297, 'omega': 2.1202356815338135, 'theta': 2.8394834995269775, 'phi': 2.7482211589813232, 'total': 14.726298332214355}\n"
     ]
    },
    {
     "name": "stderr",
     "output_type": "stream",
     "text": [
      "100%|██████████| 1/1 [00:00<00:00,  1.29it/s]\n"
     ]
    },
    {
     "name": "stdout",
     "output_type": "stream",
     "text": [
      "\n",
      "Average validation loss (epoch 9): {'ca_dist': 1.954177737236023, 'cb_dist': 1.9627525806427002, 'no_dist': 2.7009477615356445, 'omega': 2.101489543914795, 'theta': 2.849574565887451, 'phi': 2.694178342819214, 'total': 14.263121604919434}\n"
     ]
    },
    {
     "name": "stderr",
     "output_type": "stream",
     "text": [
      "100%|██████████| 3/3 [00:14<00:00,  4.73s/it]\n"
     ]
    },
    {
     "name": "stdout",
     "output_type": "stream",
     "text": [
      "\n",
      "Average training loss (epoch 10): {'ca_dist': 2.0480000972747803, 'cb_dist': 2.0712201595306396, 'no_dist': 2.6645984649658203, 'omega': 2.06435227394104, 'theta': 2.7046291828155518, 'phi': 2.7125205993652344, 'total': 14.265320777893066}\n"
     ]
    },
    {
     "name": "stderr",
     "output_type": "stream",
     "text": [
      "100%|██████████| 1/1 [00:00<00:00,  1.38it/s]\n"
     ]
    },
    {
     "name": "stdout",
     "output_type": "stream",
     "text": [
      "\n",
      "Average validation loss (epoch 10): {'ca_dist': 1.9468618631362915, 'cb_dist': 1.8208839893341064, 'no_dist': 2.683018207550049, 'omega': 1.877790093421936, 'theta': 2.8401358127593994, 'phi': 2.622523069381714, 'total': 13.791213035583496}\n"
     ]
    },
    {
     "name": "stderr",
     "output_type": "stream",
     "text": [
      "100%|██████████| 3/3 [00:14<00:00,  4.71s/it]\n"
     ]
    },
    {
     "name": "stdout",
     "output_type": "stream",
     "text": [
      "\n",
      "Average training loss (epoch 11): {'ca_dist': 1.9589948654174805, 'cb_dist': 2.015178918838501, 'no_dist': 2.611527681350708, 'omega': 2.0063021183013916, 'theta': 2.622786283493042, 'phi': 2.670090913772583, 'total': 13.884881019592285}\n"
     ]
    },
    {
     "name": "stderr",
     "output_type": "stream",
     "text": [
      "100%|██████████| 1/1 [00:00<00:00,  1.39it/s]\n"
     ]
    },
    {
     "name": "stdout",
     "output_type": "stream",
     "text": [
      "\n",
      "Average validation loss (epoch 11): {'ca_dist': 1.8933639526367188, 'cb_dist': 1.8347642421722412, 'no_dist': 2.4590935707092285, 'omega': 1.8174734115600586, 'theta': 2.7759037017822266, 'phi': 2.642775535583496, 'total': 13.42337417602539}\n"
     ]
    },
    {
     "name": "stderr",
     "output_type": "stream",
     "text": [
      "100%|██████████| 3/3 [00:14<00:00,  4.75s/it]\n"
     ]
    },
    {
     "name": "stdout",
     "output_type": "stream",
     "text": [
      "\n",
      "Average training loss (epoch 12): {'ca_dist': 1.8945955038070679, 'cb_dist': 1.9523110389709473, 'no_dist': 2.567189931869507, 'omega': 1.9462966918945312, 'theta': 2.562464952468872, 'phi': 2.632776975631714, 'total': 13.555633544921875}\n"
     ]
    },
    {
     "name": "stderr",
     "output_type": "stream",
     "text": [
      "100%|██████████| 1/1 [00:00<00:00,  1.31it/s]\n"
     ]
    },
    {
     "name": "stdout",
     "output_type": "stream",
     "text": [
      "\n",
      "Average validation loss (epoch 12): {'ca_dist': 1.7737727165222168, 'cb_dist': 1.8403033018112183, 'no_dist': 2.2260255813598633, 'omega': 1.7420411109924316, 'theta': 2.6464107036590576, 'phi': 2.6315529346466064, 'total': 12.860106468200684}\n"
     ]
    },
    {
     "name": "stderr",
     "output_type": "stream",
     "text": [
      "100%|██████████| 3/3 [00:14<00:00,  4.69s/it]\n"
     ]
    },
    {
     "name": "stdout",
     "output_type": "stream",
     "text": [
      "\n",
      "Average training loss (epoch 13): {'ca_dist': 1.8317352533340454, 'cb_dist': 1.8903709650039673, 'no_dist': 2.5211479663848877, 'omega': 1.8875738382339478, 'theta': 2.519946813583374, 'phi': 2.581350326538086, 'total': 13.232124328613281}\n"
     ]
    },
    {
     "name": "stderr",
     "output_type": "stream",
     "text": [
      "100%|██████████| 1/1 [00:00<00:00,  1.54it/s]\n"
     ]
    },
    {
     "name": "stdout",
     "output_type": "stream",
     "text": [
      "\n",
      "Average validation loss (epoch 13): {'ca_dist': 1.6948823928833008, 'cb_dist': 1.859534502029419, 'no_dist': 2.176562547683716, 'omega': 1.7215999364852905, 'theta': 2.585479736328125, 'phi': 2.552844285964966, 'total': 12.590903282165527}\n"
     ]
    },
    {
     "name": "stderr",
     "output_type": "stream",
     "text": [
      "100%|██████████| 3/3 [00:12<00:00,  4.00s/it]\n"
     ]
    },
    {
     "name": "stdout",
     "output_type": "stream",
     "text": [
      "\n",
      "Average training loss (epoch 14): {'ca_dist': 1.7708858251571655, 'cb_dist': 1.8139653205871582, 'no_dist': 2.4742887020111084, 'omega': 1.8057283163070679, 'theta': 2.4723997116088867, 'phi': 2.4974496364593506, 'total': 12.834716796875}\n"
     ]
    },
    {
     "name": "stderr",
     "output_type": "stream",
     "text": [
      "100%|██████████| 1/1 [00:00<00:00,  1.58it/s]\n"
     ]
    },
    {
     "name": "stdout",
     "output_type": "stream",
     "text": [
      "\n",
      "Average validation loss (epoch 14): {'ca_dist': 1.6697908639907837, 'cb_dist': 1.7515448331832886, 'no_dist': 2.154567003250122, 'omega': 1.6210558414459229, 'theta': 2.5281622409820557, 'phi': 2.3524632453918457, 'total': 12.077583312988281}\n"
     ]
    },
    {
     "name": "stderr",
     "output_type": "stream",
     "text": [
      "100%|██████████| 3/3 [00:13<00:00,  4.44s/it]\n"
     ]
    },
    {
     "name": "stdout",
     "output_type": "stream",
     "text": [
      "\n",
      "Average training loss (epoch 15): {'ca_dist': 1.7196308374404907, 'cb_dist': 1.7323232889175415, 'no_dist': 2.434652090072632, 'omega': 1.7122770547866821, 'theta': 2.4288556575775146, 'phi': 2.4329135417938232, 'total': 12.460652351379395}\n"
     ]
    },
    {
     "name": "stderr",
     "output_type": "stream",
     "text": [
      "100%|██████████| 1/1 [00:00<00:00,  1.49it/s]\n"
     ]
    },
    {
     "name": "stdout",
     "output_type": "stream",
     "text": [
      "\n",
      "Average validation loss (epoch 15): {'ca_dist': 1.64207923412323, 'cb_dist': 1.5787755250930786, 'no_dist': 2.128288984298706, 'omega': 1.6058752536773682, 'theta': 2.4050285816192627, 'phi': 2.2378628253936768, 'total': 11.597909927368164}\n"
     ]
    },
    {
     "name": "stderr",
     "output_type": "stream",
     "text": [
      "100%|██████████| 3/3 [00:13<00:00,  4.51s/it]\n"
     ]
    },
    {
     "name": "stdout",
     "output_type": "stream",
     "text": [
      "\n",
      "Average training loss (epoch 16): {'ca_dist': 1.6698633432388306, 'cb_dist': 1.66587495803833, 'no_dist': 2.395256280899048, 'omega': 1.64657461643219, 'theta': 2.389798402786255, 'phi': 2.3939743041992188, 'total': 12.16134262084961}\n"
     ]
    },
    {
     "name": "stderr",
     "output_type": "stream",
     "text": [
      "100%|██████████| 1/1 [00:00<00:00,  2.04it/s]\n"
     ]
    },
    {
     "name": "stdout",
     "output_type": "stream",
     "text": [
      "\n",
      "Average validation loss (epoch 16): {'ca_dist': 1.7034519910812378, 'cb_dist': 1.5996814966201782, 'no_dist': 2.281456232070923, 'omega': 1.7527133226394653, 'theta': 2.4574460983276367, 'phi': 2.3046481609344482, 'total': 12.099397659301758}\n"
     ]
    },
    {
     "name": "stderr",
     "output_type": "stream",
     "text": [
      "100%|██████████| 3/3 [00:10<00:00,  3.38s/it]\n"
     ]
    },
    {
     "name": "stdout",
     "output_type": "stream",
     "text": [
      "\n",
      "Average training loss (epoch 17): {'ca_dist': 1.6139761209487915, 'cb_dist': 1.6095091104507446, 'no_dist': 2.3550503253936768, 'omega': 1.5941678285598755, 'theta': 2.3458118438720703, 'phi': 2.3515217304229736, 'total': 11.870037078857422}\n"
     ]
    },
    {
     "name": "stderr",
     "output_type": "stream",
     "text": [
      "100%|██████████| 1/1 [00:00<00:00,  2.37it/s]\n"
     ]
    },
    {
     "name": "stdout",
     "output_type": "stream",
     "text": [
      "\n",
      "Average validation loss (epoch 17): {'ca_dist': 1.6147269010543823, 'cb_dist': 1.5419511795043945, 'no_dist': 2.3330328464508057, 'omega': 1.6964266300201416, 'theta': 2.375319242477417, 'phi': 2.236090660095215, 'total': 11.797547340393066}\n"
     ]
    },
    {
     "name": "stderr",
     "output_type": "stream",
     "text": [
      "100%|██████████| 3/3 [00:09<00:00,  3.25s/it]\n"
     ]
    },
    {
     "name": "stdout",
     "output_type": "stream",
     "text": [
      "\n",
      "Average training loss (epoch 18): {'ca_dist': 1.5680227279663086, 'cb_dist': 1.564890742301941, 'no_dist': 2.3102872371673584, 'omega': 1.5469290018081665, 'theta': 2.2992465496063232, 'phi': 2.3057143688201904, 'total': 11.59508991241455}\n"
     ]
    },
    {
     "name": "stderr",
     "output_type": "stream",
     "text": [
      "100%|██████████| 1/1 [00:00<00:00,  1.35it/s]\n"
     ]
    },
    {
     "name": "stdout",
     "output_type": "stream",
     "text": [
      "\n",
      "Average validation loss (epoch 18): {'ca_dist': 1.4796663522720337, 'cb_dist': 1.4690155982971191, 'no_dist': 2.250156879425049, 'omega': 1.554129958152771, 'theta': 2.271577835083008, 'phi': 2.1413424015045166, 'total': 11.165888786315918}\n"
     ]
    },
    {
     "name": "stderr",
     "output_type": "stream",
     "text": [
      "100%|██████████| 3/3 [00:14<00:00,  4.69s/it]\n"
     ]
    },
    {
     "name": "stdout",
     "output_type": "stream",
     "text": [
      "\n",
      "Average training loss (epoch 19): {'ca_dist': 1.5152873992919922, 'cb_dist': 1.514769196510315, 'no_dist': 2.2634975910186768, 'omega': 1.495141625404358, 'theta': 2.2542293071746826, 'phi': 2.2622509002685547, 'total': 11.305176734924316}\n"
     ]
    },
    {
     "name": "stderr",
     "output_type": "stream",
     "text": [
      "100%|██████████| 1/1 [00:00<00:00,  1.53it/s]\n"
     ]
    },
    {
     "name": "stdout",
     "output_type": "stream",
     "text": [
      "\n",
      "Average validation loss (epoch 19): {'ca_dist': 1.4195315837860107, 'cb_dist': 1.4240238666534424, 'no_dist': 2.1736338138580322, 'omega': 1.4503378868103027, 'theta': 2.2680890560150146, 'phi': 2.1665713787078857, 'total': 10.90218734741211}\n"
     ]
    },
    {
     "name": "stderr",
     "output_type": "stream",
     "text": [
      "100%|██████████| 3/3 [00:11<00:00,  3.74s/it]\n"
     ]
    },
    {
     "name": "stdout",
     "output_type": "stream",
     "text": [
      "\n",
      "Average training loss (epoch 20): {'ca_dist': 1.4652806520462036, 'cb_dist': 1.4680681228637695, 'no_dist': 2.228365421295166, 'omega': 1.4461647272109985, 'theta': 2.211198568344116, 'phi': 2.2210004329681396, 'total': 11.040078163146973}\n"
     ]
    },
    {
     "name": "stderr",
     "output_type": "stream",
     "text": [
      "100%|██████████| 1/1 [00:00<00:00,  2.04it/s]\n"
     ]
    },
    {
     "name": "stdout",
     "output_type": "stream",
     "text": [
      "\n",
      "Average validation loss (epoch 20): {'ca_dist': 1.3456084728240967, 'cb_dist': 1.413948893547058, 'no_dist': 2.2504379749298096, 'omega': 1.380160927772522, 'theta': 2.234394073486328, 'phi': 2.1801810264587402, 'total': 10.804731369018555}\n"
     ]
    },
    {
     "name": "stderr",
     "output_type": "stream",
     "text": [
      "100%|██████████| 3/3 [00:07<00:00,  2.53s/it]\n"
     ]
    },
    {
     "name": "stdout",
     "output_type": "stream",
     "text": [
      "\n",
      "Average training loss (epoch 21): {'ca_dist': 1.4138332605361938, 'cb_dist': 1.421836256980896, 'no_dist': 2.186722755432129, 'omega': 1.397927165031433, 'theta': 2.166116714477539, 'phi': 2.1788299083709717, 'total': 10.765266418457031}\n"
     ]
    },
    {
     "name": "stderr",
     "output_type": "stream",
     "text": [
      "100%|██████████| 1/1 [00:00<00:00,  1.72it/s]\n"
     ]
    },
    {
     "name": "stdout",
     "output_type": "stream",
     "text": [
      "\n",
      "Average validation loss (epoch 21): {'ca_dist': 1.268751621246338, 'cb_dist': 1.4464361667633057, 'no_dist': 2.146299123764038, 'omega': 1.326584815979004, 'theta': 2.199134111404419, 'phi': 2.173083782196045, 'total': 10.56028938293457}\n"
     ]
    },
    {
     "name": "stderr",
     "output_type": "stream",
     "text": [
      "100%|██████████| 3/3 [00:09<00:00,  3.02s/it]\n"
     ]
    },
    {
     "name": "stdout",
     "output_type": "stream",
     "text": [
      "\n",
      "Average training loss (epoch 22): {'ca_dist': 1.3738843202590942, 'cb_dist': 1.374110221862793, 'no_dist': 2.1461665630340576, 'omega': 1.3516124486923218, 'theta': 2.125725030899048, 'phi': 2.136183738708496, 'total': 10.507682800292969}\n"
     ]
    },
    {
     "name": "stderr",
     "output_type": "stream",
     "text": [
      "100%|██████████| 1/1 [00:00<00:00,  1.57it/s]\n"
     ]
    },
    {
     "name": "stdout",
     "output_type": "stream",
     "text": [
      "\n",
      "Average validation loss (epoch 22): {'ca_dist': 1.212906002998352, 'cb_dist': 1.5048997402191162, 'no_dist': 2.0133755207061768, 'omega': 1.2997174263000488, 'theta': 2.173523426055908, 'phi': 2.1309609413146973, 'total': 10.335382461547852}\n"
     ]
    },
    {
     "name": "stderr",
     "output_type": "stream",
     "text": [
      "100%|██████████| 3/3 [00:12<00:00,  4.30s/it]\n"
     ]
    },
    {
     "name": "stdout",
     "output_type": "stream",
     "text": [
      "\n",
      "Average training loss (epoch 23): {'ca_dist': 1.331377387046814, 'cb_dist': 1.3399955034255981, 'no_dist': 2.1060917377471924, 'omega': 1.31578528881073, 'theta': 2.082857370376587, 'phi': 2.097623825073242, 'total': 10.273731231689453}\n"
     ]
    },
    {
     "name": "stderr",
     "output_type": "stream",
     "text": [
      "100%|██████████| 1/1 [00:00<00:00,  3.14it/s]\n"
     ]
    },
    {
     "name": "stdout",
     "output_type": "stream",
     "text": [
      "\n",
      "Average validation loss (epoch 23): {'ca_dist': 1.1969999074935913, 'cb_dist': 1.5740227699279785, 'no_dist': 1.9181768894195557, 'omega': 1.2898437976837158, 'theta': 2.1420083045959473, 'phi': 2.0923385620117188, 'total': 10.213390350341797}\n"
     ]
    },
    {
     "name": "stderr",
     "output_type": "stream",
     "text": [
      "100%|██████████| 3/3 [00:07<00:00,  2.66s/it]\n"
     ]
    },
    {
     "name": "stdout",
     "output_type": "stream",
     "text": [
      "\n",
      "Average training loss (epoch 24): {'ca_dist': 1.2994036674499512, 'cb_dist': 1.3041633367538452, 'no_dist': 2.0690016746520996, 'omega': 1.2811778783798218, 'theta': 2.045006275177002, 'phi': 2.0588009357452393, 'total': 10.057554244995117}\n"
     ]
    },
    {
     "name": "stderr",
     "output_type": "stream",
     "text": [
      "100%|██████████| 1/1 [00:00<00:00,  1.13it/s]\n"
     ]
    },
    {
     "name": "stdout",
     "output_type": "stream",
     "text": [
      "\n",
      "Average validation loss (epoch 24): {'ca_dist': 1.1692897081375122, 'cb_dist': 1.573205828666687, 'no_dist': 1.8018957376480103, 'omega': 1.2140069007873535, 'theta': 2.0696465969085693, 'phi': 1.9836407899856567, 'total': 9.811685562133789}\n"
     ]
    },
    {
     "name": "stderr",
     "output_type": "stream",
     "text": [
      "  0%|          | 0/3 [00:02<?, ?it/s]\n"
     ]
    },
    {
     "ename": "KeyboardInterrupt",
     "evalue": "",
     "output_type": "error",
     "traceback": [
      "\u001b[0;31m---------------------------------------------------------------------------\u001b[0m",
      "\u001b[0;31mKeyboardInterrupt\u001b[0m                         Traceback (most recent call last)",
      "\u001b[0;32m/tmp/ipykernel_11061/2168961459.py\u001b[0m in \u001b[0;36m<module>\u001b[0;34m\u001b[0m\n\u001b[1;32m      8\u001b[0m \u001b[0;34m\u001b[0m\u001b[0m\n\u001b[1;32m      9\u001b[0m \u001b[0;32mfor\u001b[0m \u001b[0mepoch\u001b[0m \u001b[0;32min\u001b[0m \u001b[0mrange\u001b[0m\u001b[0;34m(\u001b[0m\u001b[0mcurrent_epoch\u001b[0m\u001b[0;34m,\u001b[0m \u001b[0mepochs\u001b[0m\u001b[0;34m)\u001b[0m\u001b[0;34m:\u001b[0m\u001b[0;34m\u001b[0m\u001b[0;34m\u001b[0m\u001b[0m\n\u001b[0;32m---> 10\u001b[0;31m     \u001b[0mtrain_losses\u001b[0m \u001b[0;34m=\u001b[0m \u001b[0mtrain_epoch\u001b[0m\u001b[0;34m(\u001b[0m\u001b[0mmodel\u001b[0m\u001b[0;34m,\u001b[0m \u001b[0mtrain_loader\u001b[0m\u001b[0;34m,\u001b[0m \u001b[0moptimizer\u001b[0m\u001b[0;34m,\u001b[0m \u001b[0mdevice\u001b[0m\u001b[0;34m,\u001b[0m \u001b[0mcriterion\u001b[0m\u001b[0;34m,\u001b[0m \u001b[0mloss_size\u001b[0m\u001b[0;34m)\u001b[0m\u001b[0;34m\u001b[0m\u001b[0;34m\u001b[0m\u001b[0m\n\u001b[0m\u001b[1;32m     11\u001b[0m     \u001b[0mavg_train_losses\u001b[0m \u001b[0;34m=\u001b[0m \u001b[0mtrain_losses\u001b[0m \u001b[0;34m/\u001b[0m \u001b[0mlen\u001b[0m\u001b[0;34m(\u001b[0m\u001b[0mtrain_loader\u001b[0m\u001b[0;34m)\u001b[0m\u001b[0;34m\u001b[0m\u001b[0;34m\u001b[0m\u001b[0m\n\u001b[1;32m     12\u001b[0m \u001b[0;34m\u001b[0m\u001b[0m\n",
      "\u001b[0;32m/tmp/ipykernel_11061/2334280752.py\u001b[0m in \u001b[0;36mtrain_epoch\u001b[0;34m(model, train_loader, optimizer, device, criterion, loss_size)\u001b[0m\n\u001b[1;32m     28\u001b[0m             \u001b[0;32mreturn\u001b[0m \u001b[0moutputs\u001b[0m\u001b[0;34m,\u001b[0m \u001b[0mtorch\u001b[0m\u001b[0;34m.\u001b[0m\u001b[0mTensor\u001b[0m\u001b[0;34m(\u001b[0m\u001b[0;34m[\u001b[0m\u001b[0mfloat\u001b[0m\u001b[0;34m(\u001b[0m\u001b[0ml\u001b[0m\u001b[0;34m.\u001b[0m\u001b[0mitem\u001b[0m\u001b[0;34m(\u001b[0m\u001b[0;34m)\u001b[0m\u001b[0;34m)\u001b[0m \u001b[0;32mfor\u001b[0m \u001b[0ml\u001b[0m \u001b[0;32min\u001b[0m \u001b[0mlosses\u001b[0m\u001b[0;34m]\u001b[0m\u001b[0;34m)\u001b[0m\u001b[0;34m\u001b[0m\u001b[0;34m\u001b[0m\u001b[0m\n\u001b[1;32m     29\u001b[0m \u001b[0;34m\u001b[0m\u001b[0m\n\u001b[0;32m---> 30\u001b[0;31m         \u001b[0moutputs\u001b[0m\u001b[0;34m,\u001b[0m \u001b[0mbatch_loss\u001b[0m \u001b[0;34m=\u001b[0m \u001b[0mhandle_batch\u001b[0m\u001b[0;34m(\u001b[0m\u001b[0;34m)\u001b[0m\u001b[0;34m\u001b[0m\u001b[0;34m\u001b[0m\u001b[0m\n\u001b[0m\u001b[1;32m     31\u001b[0m         \u001b[0mrunning_losses\u001b[0m \u001b[0;34m+=\u001b[0m \u001b[0mbatch_loss\u001b[0m\u001b[0;34m\u001b[0m\u001b[0;34m\u001b[0m\u001b[0m\n\u001b[1;32m     32\u001b[0m \u001b[0;34m\u001b[0m\u001b[0m\n",
      "\u001b[0;32m/tmp/ipykernel_11061/2334280752.py\u001b[0m in \u001b[0;36mhandle_batch\u001b[0;34m()\u001b[0m\n\u001b[1;32m     15\u001b[0m \u001b[0;34m\u001b[0m\u001b[0m\n\u001b[1;32m     16\u001b[0m         \u001b[0;32mdef\u001b[0m \u001b[0mhandle_batch\u001b[0m\u001b[0;34m(\u001b[0m\u001b[0;34m)\u001b[0m\u001b[0;34m:\u001b[0m\u001b[0;34m\u001b[0m\u001b[0;34m\u001b[0m\u001b[0m\n\u001b[0;32m---> 17\u001b[0;31m             \u001b[0moutputs\u001b[0m \u001b[0;34m=\u001b[0m \u001b[0mmodel\u001b[0m\u001b[0;34m(\u001b[0m\u001b[0minputs\u001b[0m\u001b[0;34m,\u001b[0m\u001b[0munpadded_tensor\u001b[0m\u001b[0;34m.\u001b[0m\u001b[0mto\u001b[0m\u001b[0;34m(\u001b[0m\u001b[0mdevice\u001b[0m\u001b[0;34m)\u001b[0m\u001b[0;34m)\u001b[0m\u001b[0;34m\u001b[0m\u001b[0;34m\u001b[0m\u001b[0m\n\u001b[0m\u001b[1;32m     18\u001b[0m \u001b[0;34m\u001b[0m\u001b[0m\n\u001b[1;32m     19\u001b[0m             losses = [\n",
      "\u001b[0;32m~/.local/lib/python3.7/site-packages/torch/nn/modules/module.py\u001b[0m in \u001b[0;36m_call_impl\u001b[0;34m(self, *input, **kwargs)\u001b[0m\n\u001b[1;32m   1128\u001b[0m         if not (self._backward_hooks or self._forward_hooks or self._forward_pre_hooks or _global_backward_hooks\n\u001b[1;32m   1129\u001b[0m                 or _global_forward_hooks or _global_forward_pre_hooks):\n\u001b[0;32m-> 1130\u001b[0;31m             \u001b[0;32mreturn\u001b[0m \u001b[0mforward_call\u001b[0m\u001b[0;34m(\u001b[0m\u001b[0;34m*\u001b[0m\u001b[0minput\u001b[0m\u001b[0;34m,\u001b[0m \u001b[0;34m**\u001b[0m\u001b[0mkwargs\u001b[0m\u001b[0;34m)\u001b[0m\u001b[0;34m\u001b[0m\u001b[0;34m\u001b[0m\u001b[0m\n\u001b[0m\u001b[1;32m   1131\u001b[0m         \u001b[0;31m# Do not call functions when jit is used\u001b[0m\u001b[0;34m\u001b[0m\u001b[0;34m\u001b[0m\u001b[0;34m\u001b[0m\u001b[0m\n\u001b[1;32m   1132\u001b[0m         \u001b[0mfull_backward_hooks\u001b[0m\u001b[0;34m,\u001b[0m \u001b[0mnon_full_backward_hooks\u001b[0m \u001b[0;34m=\u001b[0m \u001b[0;34m[\u001b[0m\u001b[0;34m]\u001b[0m\u001b[0;34m,\u001b[0m \u001b[0;34m[\u001b[0m\u001b[0;34m]\u001b[0m\u001b[0;34m\u001b[0m\u001b[0;34m\u001b[0m\u001b[0m\n",
      "\u001b[0;32m~/all_experiment/FvFold/fvfold/models/AbResNet/AbResNet.py\u001b[0m in \u001b[0;36mforward\u001b[0;34m(self, x1, x2)\u001b[0m\n\u001b[1;32m    113\u001b[0m         \u001b[0;31m# print(\"drop out shape\",out.shape)\u001b[0m\u001b[0;34m\u001b[0m\u001b[0;34m\u001b[0m\u001b[0;34m\u001b[0m\u001b[0m\n\u001b[1;32m    114\u001b[0m \u001b[0;34m\u001b[0m\u001b[0m\n\u001b[0;32m--> 115\u001b[0;31m         \u001b[0mout_ca_dist\u001b[0m \u001b[0;34m=\u001b[0m \u001b[0mself\u001b[0m\u001b[0;34m.\u001b[0m\u001b[0mout_ca_dist\u001b[0m\u001b[0;34m(\u001b[0m\u001b[0mout\u001b[0m\u001b[0;34m)\u001b[0m\u001b[0;34m[\u001b[0m\u001b[0;36m0\u001b[0m\u001b[0;34m]\u001b[0m\u001b[0;34m\u001b[0m\u001b[0;34m\u001b[0m\u001b[0m\n\u001b[0m\u001b[1;32m    116\u001b[0m         \u001b[0;31m# print(\"out_ca_dist\",out_ca_dist.shape)\u001b[0m\u001b[0;34m\u001b[0m\u001b[0;34m\u001b[0m\u001b[0;34m\u001b[0m\u001b[0m\n\u001b[1;32m    117\u001b[0m         \u001b[0mout_cb_dist\u001b[0m \u001b[0;34m=\u001b[0m \u001b[0mself\u001b[0m\u001b[0;34m.\u001b[0m\u001b[0mout_cb_dist\u001b[0m\u001b[0;34m(\u001b[0m\u001b[0mout\u001b[0m\u001b[0;34m)\u001b[0m\u001b[0;34m[\u001b[0m\u001b[0;36m0\u001b[0m\u001b[0;34m]\u001b[0m\u001b[0;34m\u001b[0m\u001b[0;34m\u001b[0m\u001b[0m\n",
      "\u001b[0;32m~/.local/lib/python3.7/site-packages/torch/nn/modules/module.py\u001b[0m in \u001b[0;36m_call_impl\u001b[0;34m(self, *input, **kwargs)\u001b[0m\n\u001b[1;32m   1128\u001b[0m         if not (self._backward_hooks or self._forward_hooks or self._forward_pre_hooks or _global_backward_hooks\n\u001b[1;32m   1129\u001b[0m                 or _global_forward_hooks or _global_forward_pre_hooks):\n\u001b[0;32m-> 1130\u001b[0;31m             \u001b[0;32mreturn\u001b[0m \u001b[0mforward_call\u001b[0m\u001b[0;34m(\u001b[0m\u001b[0;34m*\u001b[0m\u001b[0minput\u001b[0m\u001b[0;34m,\u001b[0m \u001b[0;34m**\u001b[0m\u001b[0mkwargs\u001b[0m\u001b[0;34m)\u001b[0m\u001b[0;34m\u001b[0m\u001b[0;34m\u001b[0m\u001b[0m\n\u001b[0m\u001b[1;32m   1131\u001b[0m         \u001b[0;31m# Do not call functions when jit is used\u001b[0m\u001b[0;34m\u001b[0m\u001b[0;34m\u001b[0m\u001b[0;34m\u001b[0m\u001b[0m\n\u001b[1;32m   1132\u001b[0m         \u001b[0mfull_backward_hooks\u001b[0m\u001b[0;34m,\u001b[0m \u001b[0mnon_full_backward_hooks\u001b[0m \u001b[0;34m=\u001b[0m \u001b[0;34m[\u001b[0m\u001b[0;34m]\u001b[0m\u001b[0;34m,\u001b[0m \u001b[0;34m[\u001b[0m\u001b[0;34m]\u001b[0m\u001b[0;34m\u001b[0m\u001b[0;34m\u001b[0m\u001b[0m\n",
      "\u001b[0;32m~/.local/lib/python3.7/site-packages/torch/nn/modules/container.py\u001b[0m in \u001b[0;36mforward\u001b[0;34m(self, input)\u001b[0m\n\u001b[1;32m    137\u001b[0m     \u001b[0;32mdef\u001b[0m \u001b[0mforward\u001b[0m\u001b[0;34m(\u001b[0m\u001b[0mself\u001b[0m\u001b[0;34m,\u001b[0m \u001b[0minput\u001b[0m\u001b[0;34m)\u001b[0m\u001b[0;34m:\u001b[0m\u001b[0;34m\u001b[0m\u001b[0;34m\u001b[0m\u001b[0m\n\u001b[1;32m    138\u001b[0m         \u001b[0;32mfor\u001b[0m \u001b[0mmodule\u001b[0m \u001b[0;32min\u001b[0m \u001b[0mself\u001b[0m\u001b[0;34m:\u001b[0m\u001b[0;34m\u001b[0m\u001b[0;34m\u001b[0m\u001b[0m\n\u001b[0;32m--> 139\u001b[0;31m             \u001b[0minput\u001b[0m \u001b[0;34m=\u001b[0m \u001b[0mmodule\u001b[0m\u001b[0;34m(\u001b[0m\u001b[0minput\u001b[0m\u001b[0;34m)\u001b[0m\u001b[0;34m\u001b[0m\u001b[0;34m\u001b[0m\u001b[0m\n\u001b[0m\u001b[1;32m    140\u001b[0m         \u001b[0;32mreturn\u001b[0m \u001b[0minput\u001b[0m\u001b[0;34m\u001b[0m\u001b[0;34m\u001b[0m\u001b[0m\n\u001b[1;32m    141\u001b[0m \u001b[0;34m\u001b[0m\u001b[0m\n",
      "\u001b[0;32m~/.local/lib/python3.7/site-packages/torch/nn/modules/module.py\u001b[0m in \u001b[0;36m_call_impl\u001b[0;34m(self, *input, **kwargs)\u001b[0m\n\u001b[1;32m   1128\u001b[0m         if not (self._backward_hooks or self._forward_hooks or self._forward_pre_hooks or _global_backward_hooks\n\u001b[1;32m   1129\u001b[0m                 or _global_forward_hooks or _global_forward_pre_hooks):\n\u001b[0;32m-> 1130\u001b[0;31m             \u001b[0;32mreturn\u001b[0m \u001b[0mforward_call\u001b[0m\u001b[0;34m(\u001b[0m\u001b[0;34m*\u001b[0m\u001b[0minput\u001b[0m\u001b[0;34m,\u001b[0m \u001b[0;34m**\u001b[0m\u001b[0mkwargs\u001b[0m\u001b[0;34m)\u001b[0m\u001b[0;34m\u001b[0m\u001b[0;34m\u001b[0m\u001b[0m\n\u001b[0m\u001b[1;32m   1131\u001b[0m         \u001b[0;31m# Do not call functions when jit is used\u001b[0m\u001b[0;34m\u001b[0m\u001b[0;34m\u001b[0m\u001b[0;34m\u001b[0m\u001b[0m\n\u001b[1;32m   1132\u001b[0m         \u001b[0mfull_backward_hooks\u001b[0m\u001b[0;34m,\u001b[0m \u001b[0mnon_full_backward_hooks\u001b[0m \u001b[0;34m=\u001b[0m \u001b[0;34m[\u001b[0m\u001b[0;34m]\u001b[0m\u001b[0;34m,\u001b[0m \u001b[0;34m[\u001b[0m\u001b[0;34m]\u001b[0m\u001b[0;34m\u001b[0m\u001b[0;34m\u001b[0m\u001b[0m\n",
      "\u001b[0;32m~/all_experiment/FvFold/fvfold/resnets/CrissCrossResNet2D.py\u001b[0m in \u001b[0;36mforward\u001b[0;34m(self, x)\u001b[0m\n\u001b[1;32m     91\u001b[0m         \u001b[0mattns\u001b[0m \u001b[0;34m=\u001b[0m \u001b[0;34m[\u001b[0m\u001b[0;34m]\u001b[0m\u001b[0;34m\u001b[0m\u001b[0;34m\u001b[0m\u001b[0m\n\u001b[1;32m     92\u001b[0m         \u001b[0;32mfor\u001b[0m \u001b[0m_\u001b[0m \u001b[0;32min\u001b[0m \u001b[0mrange\u001b[0m\u001b[0;34m(\u001b[0m\u001b[0;36m2\u001b[0m\u001b[0;34m)\u001b[0m\u001b[0;34m:\u001b[0m\u001b[0;34m\u001b[0m\u001b[0;34m\u001b[0m\u001b[0m\n\u001b[0;32m---> 93\u001b[0;31m             \u001b[0moutput\u001b[0m\u001b[0;34m,\u001b[0m \u001b[0mattn\u001b[0m \u001b[0;34m=\u001b[0m \u001b[0mcheckpoint\u001b[0m\u001b[0;34m(\u001b[0m\u001b[0mself\u001b[0m\u001b[0;34m.\u001b[0m\u001b[0mcca\u001b[0m\u001b[0;34m,\u001b[0m \u001b[0moutput\u001b[0m\u001b[0;34m)\u001b[0m\u001b[0;34m\u001b[0m\u001b[0;34m\u001b[0m\u001b[0m\n\u001b[0m\u001b[1;32m     94\u001b[0m             \u001b[0mattns\u001b[0m\u001b[0;34m.\u001b[0m\u001b[0mappend\u001b[0m\u001b[0;34m(\u001b[0m\u001b[0mattn\u001b[0m\u001b[0;34m)\u001b[0m\u001b[0;34m\u001b[0m\u001b[0;34m\u001b[0m\u001b[0m\n\u001b[1;32m     95\u001b[0m         \u001b[0moutput\u001b[0m \u001b[0;34m=\u001b[0m \u001b[0mself\u001b[0m\u001b[0;34m.\u001b[0m\u001b[0mconv2\u001b[0m\u001b[0;34m(\u001b[0m\u001b[0moutput\u001b[0m\u001b[0;34m)\u001b[0m\u001b[0;34m\u001b[0m\u001b[0;34m\u001b[0m\u001b[0m\n",
      "\u001b[0;32m~/.local/lib/python3.7/site-packages/torch/utils/checkpoint.py\u001b[0m in \u001b[0;36mcheckpoint\u001b[0;34m(function, use_reentrant, *args, **kwargs)\u001b[0m\n\u001b[1;32m    233\u001b[0m \u001b[0;34m\u001b[0m\u001b[0m\n\u001b[1;32m    234\u001b[0m     \u001b[0;32mif\u001b[0m \u001b[0muse_reentrant\u001b[0m\u001b[0;34m:\u001b[0m\u001b[0;34m\u001b[0m\u001b[0;34m\u001b[0m\u001b[0m\n\u001b[0;32m--> 235\u001b[0;31m         \u001b[0;32mreturn\u001b[0m \u001b[0mCheckpointFunction\u001b[0m\u001b[0;34m.\u001b[0m\u001b[0mapply\u001b[0m\u001b[0;34m(\u001b[0m\u001b[0mfunction\u001b[0m\u001b[0;34m,\u001b[0m \u001b[0mpreserve\u001b[0m\u001b[0;34m,\u001b[0m \u001b[0;34m*\u001b[0m\u001b[0margs\u001b[0m\u001b[0;34m)\u001b[0m\u001b[0;34m\u001b[0m\u001b[0;34m\u001b[0m\u001b[0m\n\u001b[0m\u001b[1;32m    236\u001b[0m     \u001b[0;32melse\u001b[0m\u001b[0;34m:\u001b[0m\u001b[0;34m\u001b[0m\u001b[0;34m\u001b[0m\u001b[0m\n\u001b[1;32m    237\u001b[0m         return _checkpoint_without_reentrant(\n",
      "\u001b[0;32m~/.local/lib/python3.7/site-packages/torch/utils/checkpoint.py\u001b[0m in \u001b[0;36mforward\u001b[0;34m(ctx, run_function, preserve_rng_state, *args)\u001b[0m\n\u001b[1;32m     94\u001b[0m \u001b[0;34m\u001b[0m\u001b[0m\n\u001b[1;32m     95\u001b[0m         \u001b[0;32mwith\u001b[0m \u001b[0mtorch\u001b[0m\u001b[0;34m.\u001b[0m\u001b[0mno_grad\u001b[0m\u001b[0;34m(\u001b[0m\u001b[0;34m)\u001b[0m\u001b[0;34m:\u001b[0m\u001b[0;34m\u001b[0m\u001b[0;34m\u001b[0m\u001b[0m\n\u001b[0;32m---> 96\u001b[0;31m             \u001b[0moutputs\u001b[0m \u001b[0;34m=\u001b[0m \u001b[0mrun_function\u001b[0m\u001b[0;34m(\u001b[0m\u001b[0;34m*\u001b[0m\u001b[0margs\u001b[0m\u001b[0;34m)\u001b[0m\u001b[0;34m\u001b[0m\u001b[0;34m\u001b[0m\u001b[0m\n\u001b[0m\u001b[1;32m     97\u001b[0m         \u001b[0;32mreturn\u001b[0m \u001b[0moutputs\u001b[0m\u001b[0;34m\u001b[0m\u001b[0;34m\u001b[0m\u001b[0m\n\u001b[1;32m     98\u001b[0m \u001b[0;34m\u001b[0m\u001b[0m\n",
      "\u001b[0;32m~/.local/lib/python3.7/site-packages/torch/nn/modules/module.py\u001b[0m in \u001b[0;36m_call_impl\u001b[0;34m(self, *input, **kwargs)\u001b[0m\n\u001b[1;32m   1128\u001b[0m         if not (self._backward_hooks or self._forward_hooks or self._forward_pre_hooks or _global_backward_hooks\n\u001b[1;32m   1129\u001b[0m                 or _global_forward_hooks or _global_forward_pre_hooks):\n\u001b[0;32m-> 1130\u001b[0;31m             \u001b[0;32mreturn\u001b[0m \u001b[0mforward_call\u001b[0m\u001b[0;34m(\u001b[0m\u001b[0;34m*\u001b[0m\u001b[0minput\u001b[0m\u001b[0;34m,\u001b[0m \u001b[0;34m**\u001b[0m\u001b[0mkwargs\u001b[0m\u001b[0;34m)\u001b[0m\u001b[0;34m\u001b[0m\u001b[0;34m\u001b[0m\u001b[0m\n\u001b[0m\u001b[1;32m   1131\u001b[0m         \u001b[0;31m# Do not call functions when jit is used\u001b[0m\u001b[0;34m\u001b[0m\u001b[0;34m\u001b[0m\u001b[0;34m\u001b[0m\u001b[0m\n\u001b[1;32m   1132\u001b[0m         \u001b[0mfull_backward_hooks\u001b[0m\u001b[0;34m,\u001b[0m \u001b[0mnon_full_backward_hooks\u001b[0m \u001b[0;34m=\u001b[0m \u001b[0;34m[\u001b[0m\u001b[0;34m]\u001b[0m\u001b[0;34m,\u001b[0m \u001b[0;34m[\u001b[0m\u001b[0;34m]\u001b[0m\u001b[0;34m\u001b[0m\u001b[0;34m\u001b[0m\u001b[0m\n",
      "\u001b[0;32m~/all_experiment/FvFold/fvfold/resnets/CrissCrossResNet2D.py\u001b[0m in \u001b[0;36mforward\u001b[0;34m(self, x)\u001b[0m\n\u001b[1;32m     38\u001b[0m \u001b[0;34m\u001b[0m\u001b[0m\n\u001b[1;32m     39\u001b[0m         inf = repeat(torch.diag(\n\u001b[0;32m---> 40\u001b[0;31m             torch.tensor(float(\"-inf\"), device=device).repeat(h), 0),\n\u001b[0m\u001b[1;32m     41\u001b[0m                      \u001b[0;34m\"h1 h2 -> (b w) h1 h2\"\u001b[0m\u001b[0;34m,\u001b[0m\u001b[0;34m\u001b[0m\u001b[0;34m\u001b[0m\u001b[0m\n\u001b[1;32m     42\u001b[0m                      \u001b[0mb\u001b[0m\u001b[0;34m=\u001b[0m\u001b[0mb\u001b[0m\u001b[0;34m,\u001b[0m\u001b[0;34m\u001b[0m\u001b[0;34m\u001b[0m\u001b[0m\n",
      "\u001b[0;31mKeyboardInterrupt\u001b[0m: "
     ]
    }
   ],
   "source": [
    "use_loss=[]\n",
    "avg_v_loss=[]\n",
    "avg_t_loss=[]\n",
    "early_stop = False\n",
    "best_val_loss = float('inf')\n",
    "patience = 40\n",
    "counter = 0\n",
    "\n",
    "for epoch in range(current_epoch, epochs):\n",
    "    train_losses = train_epoch(model, train_loader, optimizer, device, criterion, loss_size)\n",
    "    avg_train_losses = train_losses / len(train_loader)\n",
    "\n",
    "    use_loss.append(avg_train_losses[6])\n",
    "    train_loss_dict = dict(zip(_output_names + ['total'], avg_train_losses.tolist()))\n",
    "    writer.add_scalars('train_loss', train_loss_dict, global_step=epoch)\n",
    "    print('\\nAverage training loss (epoch {}): {}'.format(epoch, train_loss_dict))\n",
    "\n",
    "    val_losses = validate(model, validation_loader, device, criterion, loss_size)\n",
    "    avg_val_losses = val_losses / len(validation_loader)\n",
    "    val_loss_dict = dict(zip(_output_names + ['total'], avg_val_losses.tolist()))\n",
    "    writer.add_scalars('validation_loss', val_loss_dict, global_step=epoch)\n",
    "    print('\\nAverage validation loss (epoch {}): {}'.format(epoch, val_loss_dict))\n",
    "\n",
    "    total_val_loss = val_losses[-1]\n",
    "    lr_modifier.step(total_val_loss)\n",
    "\n",
    "    avg_v_loss.append(val_loss_dict['total'])\n",
    "    avg_t_loss.append(train_loss_dict['total'])\n",
    "\n",
    "    if val_loss_dict['total'] < best_val_loss:\n",
    "        best_val_loss = val_loss_dict['total']\n",
    "        counter = 0\n",
    "        properties.update({'model_state_dict': model.state_dict()})\n",
    "        properties.update({'optimizer_state_dict': optimizer.state_dict(), 'train_loss': train_loss_dict, 'val_loss': val_loss_dict, 'epoch': epoch})\n",
    "        torch.save(properties, save_file + \"_rs{}.pt\".format(epoch))\n",
    "    else:\n",
    "        counter += 1\n",
    "        if counter >= patience:\n",
    "            early_stop = True\n",
    "            break\n",
    "\n",
    "    if early_stop:\n",
    "        break\n",
    "    \n",
    "    torch.cuda.empty_cache()\n",
    "\n",
    "\n",
    "properties.update({'model_state_dict': model.state_dict()})\n",
    "properties.update({\n",
    "    'optimizer_state_dict': optimizer.state_dict(),\n",
    "    'train_loss': train_loss_dict,\n",
    "    'val_loss': val_loss_dict,\n",
    "    'epoch': epoch\n",
    "})\n",
    "torch.save(properties, save_file+\".pt\")"
   ]
  },
  {
   "cell_type": "code",
   "execution_count": null,
   "metadata": {},
   "outputs": [],
   "source": [
    "\n",
    "#t=0.42 v=0.56\n",
    "import matplotlib.pyplot as plt\n",
    "plt.plot(use_loss)\n",
    "plt.ylabel('Loss $L(y,\\hat{y};a)$')\n",
    "plt.xlabel('Epochs')\n",
    "print(use_loss)"
   ]
  },
  {
   "cell_type": "code",
   "execution_count": null,
   "metadata": {},
   "outputs": [],
   "source": [
    "import matplotlib.pyplot as plt\n",
    "plt.plot(avg_t_loss)\n",
    "print(type(avg_t_loss))\n",
    "plt.ylabel('Loss $L(y,\\hat{y};a)$')\n",
    "print(avg_t_loss)\n",
    "plt.xlabel('Epochs')\n",
    "# print(avg_t_loss)"
   ]
  },
  {
   "cell_type": "code",
   "execution_count": null,
   "metadata": {},
   "outputs": [],
   "source": [
    "import matplotlib.pyplot as plt\n",
    "plt.plot(avg_v_loss)\n",
    "plt.ylabel('Loss $L(y,\\hat{y};a)$')\n",
    "plt.xlabel('Epochs')\n",
    "print(avg_v_loss)"
   ]
  },
  {
   "cell_type": "code",
   "execution_count": null,
   "metadata": {},
   "outputs": [],
   "source": [
    "plt.figure(figsize=(10,5))\n",
    "plt.title(\"Training and Validation Loss\")\n",
    "plt.plot(avg_v_loss,label=\"val\")\n",
    "plt.plot(avg_t_loss,label=\"train\")\n",
    "plt.xlabel(\"iterations\")\n",
    "plt.ylabel(\"Loss\")\n",
    "plt.legend()\n",
    "plt.show()"
   ]
  },
  {
   "cell_type": "code",
   "execution_count": null,
   "metadata": {},
   "outputs": [],
   "source": []
  }
 ],
 "metadata": {
  "kernelspec": {
   "display_name": "antibody",
   "language": "python",
   "name": "python3"
  },
  "language_info": {
   "codemirror_mode": {
    "name": "ipython",
    "version": 3
   },
   "file_extension": ".py",
   "mimetype": "text/x-python",
   "name": "python",
   "nbconvert_exporter": "python",
   "pygments_lexer": "ipython3",
   "version": "3.7.9"
  },
  "vscode": {
   "interpreter": {
    "hash": "d4aa1b9ed64ceffde4e9ec8fae6a09901f619502af945619ec22cc09864d41a1"
   }
  }
 },
 "nbformat": 4,
 "nbformat_minor": 4
}
